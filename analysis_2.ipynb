{
  "nbformat": 4,
  "nbformat_minor": 0,
  "metadata": {
    "colab": {
      "provenance": [],
      "toc_visible": true,
      "mount_file_id": "1kv5He5-u59e-SMBA8vU-lyVG8R3oSOtC",
      "authorship_tag": "ABX9TyOSf/DFZf/hUq8U0eqV/DSh",
      "include_colab_link": true
    },
    "kernelspec": {
      "name": "python3",
      "display_name": "Python 3"
    },
    "language_info": {
      "name": "python"
    },
    "widgets": {
      "application/vnd.jupyter.widget-state+json": {
        "609066bb2d974964b4e704a380c1a1fb": {
          "model_module": "@jupyter-widgets/controls",
          "model_name": "HBoxModel",
          "model_module_version": "1.5.0",
          "state": {
            "_dom_classes": [],
            "_model_module": "@jupyter-widgets/controls",
            "_model_module_version": "1.5.0",
            "_model_name": "HBoxModel",
            "_view_count": null,
            "_view_module": "@jupyter-widgets/controls",
            "_view_module_version": "1.5.0",
            "_view_name": "HBoxView",
            "box_style": "",
            "children": [
              "IPY_MODEL_604d33f889424093b829801745dfad2d",
              "IPY_MODEL_ee1aeb935c344bfa9166872d6773a513",
              "IPY_MODEL_6df45ee41f6e4d05904b2eba6af74f74"
            ],
            "layout": "IPY_MODEL_ef1fdaf8cc104d258baa0bf2ec010a3f"
          }
        },
        "604d33f889424093b829801745dfad2d": {
          "model_module": "@jupyter-widgets/controls",
          "model_name": "HTMLModel",
          "model_module_version": "1.5.0",
          "state": {
            "_dom_classes": [],
            "_model_module": "@jupyter-widgets/controls",
            "_model_module_version": "1.5.0",
            "_model_name": "HTMLModel",
            "_view_count": null,
            "_view_module": "@jupyter-widgets/controls",
            "_view_module_version": "1.5.0",
            "_view_name": "HTMLView",
            "description": "",
            "description_tooltip": null,
            "layout": "IPY_MODEL_d929b2f983c44b1ebff6a794a4cbdb27",
            "placeholder": "​",
            "style": "IPY_MODEL_e11035df44de4d548386b8f8a90651db",
            "value": "Batches: 100%"
          }
        },
        "ee1aeb935c344bfa9166872d6773a513": {
          "model_module": "@jupyter-widgets/controls",
          "model_name": "FloatProgressModel",
          "model_module_version": "1.5.0",
          "state": {
            "_dom_classes": [],
            "_model_module": "@jupyter-widgets/controls",
            "_model_module_version": "1.5.0",
            "_model_name": "FloatProgressModel",
            "_view_count": null,
            "_view_module": "@jupyter-widgets/controls",
            "_view_module_version": "1.5.0",
            "_view_name": "ProgressView",
            "bar_style": "success",
            "description": "",
            "description_tooltip": null,
            "layout": "IPY_MODEL_b3c7c246160d4bbaa359d63ebc2f9dff",
            "max": 7,
            "min": 0,
            "orientation": "horizontal",
            "style": "IPY_MODEL_1d543b2764844d7b9c430f132b8fd626",
            "value": 7
          }
        },
        "6df45ee41f6e4d05904b2eba6af74f74": {
          "model_module": "@jupyter-widgets/controls",
          "model_name": "HTMLModel",
          "model_module_version": "1.5.0",
          "state": {
            "_dom_classes": [],
            "_model_module": "@jupyter-widgets/controls",
            "_model_module_version": "1.5.0",
            "_model_name": "HTMLModel",
            "_view_count": null,
            "_view_module": "@jupyter-widgets/controls",
            "_view_module_version": "1.5.0",
            "_view_name": "HTMLView",
            "description": "",
            "description_tooltip": null,
            "layout": "IPY_MODEL_8be3fe453309493bb2dfee32754d229b",
            "placeholder": "​",
            "style": "IPY_MODEL_13ecb130feab4ee6815d22c39363f739",
            "value": " 7/7 [01:35&lt;00:00,  8.23s/it]"
          }
        },
        "ef1fdaf8cc104d258baa0bf2ec010a3f": {
          "model_module": "@jupyter-widgets/base",
          "model_name": "LayoutModel",
          "model_module_version": "1.2.0",
          "state": {
            "_model_module": "@jupyter-widgets/base",
            "_model_module_version": "1.2.0",
            "_model_name": "LayoutModel",
            "_view_count": null,
            "_view_module": "@jupyter-widgets/base",
            "_view_module_version": "1.2.0",
            "_view_name": "LayoutView",
            "align_content": null,
            "align_items": null,
            "align_self": null,
            "border": null,
            "bottom": null,
            "display": null,
            "flex": null,
            "flex_flow": null,
            "grid_area": null,
            "grid_auto_columns": null,
            "grid_auto_flow": null,
            "grid_auto_rows": null,
            "grid_column": null,
            "grid_gap": null,
            "grid_row": null,
            "grid_template_areas": null,
            "grid_template_columns": null,
            "grid_template_rows": null,
            "height": null,
            "justify_content": null,
            "justify_items": null,
            "left": null,
            "margin": null,
            "max_height": null,
            "max_width": null,
            "min_height": null,
            "min_width": null,
            "object_fit": null,
            "object_position": null,
            "order": null,
            "overflow": null,
            "overflow_x": null,
            "overflow_y": null,
            "padding": null,
            "right": null,
            "top": null,
            "visibility": null,
            "width": null
          }
        },
        "d929b2f983c44b1ebff6a794a4cbdb27": {
          "model_module": "@jupyter-widgets/base",
          "model_name": "LayoutModel",
          "model_module_version": "1.2.0",
          "state": {
            "_model_module": "@jupyter-widgets/base",
            "_model_module_version": "1.2.0",
            "_model_name": "LayoutModel",
            "_view_count": null,
            "_view_module": "@jupyter-widgets/base",
            "_view_module_version": "1.2.0",
            "_view_name": "LayoutView",
            "align_content": null,
            "align_items": null,
            "align_self": null,
            "border": null,
            "bottom": null,
            "display": null,
            "flex": null,
            "flex_flow": null,
            "grid_area": null,
            "grid_auto_columns": null,
            "grid_auto_flow": null,
            "grid_auto_rows": null,
            "grid_column": null,
            "grid_gap": null,
            "grid_row": null,
            "grid_template_areas": null,
            "grid_template_columns": null,
            "grid_template_rows": null,
            "height": null,
            "justify_content": null,
            "justify_items": null,
            "left": null,
            "margin": null,
            "max_height": null,
            "max_width": null,
            "min_height": null,
            "min_width": null,
            "object_fit": null,
            "object_position": null,
            "order": null,
            "overflow": null,
            "overflow_x": null,
            "overflow_y": null,
            "padding": null,
            "right": null,
            "top": null,
            "visibility": null,
            "width": null
          }
        },
        "e11035df44de4d548386b8f8a90651db": {
          "model_module": "@jupyter-widgets/controls",
          "model_name": "DescriptionStyleModel",
          "model_module_version": "1.5.0",
          "state": {
            "_model_module": "@jupyter-widgets/controls",
            "_model_module_version": "1.5.0",
            "_model_name": "DescriptionStyleModel",
            "_view_count": null,
            "_view_module": "@jupyter-widgets/base",
            "_view_module_version": "1.2.0",
            "_view_name": "StyleView",
            "description_width": ""
          }
        },
        "b3c7c246160d4bbaa359d63ebc2f9dff": {
          "model_module": "@jupyter-widgets/base",
          "model_name": "LayoutModel",
          "model_module_version": "1.2.0",
          "state": {
            "_model_module": "@jupyter-widgets/base",
            "_model_module_version": "1.2.0",
            "_model_name": "LayoutModel",
            "_view_count": null,
            "_view_module": "@jupyter-widgets/base",
            "_view_module_version": "1.2.0",
            "_view_name": "LayoutView",
            "align_content": null,
            "align_items": null,
            "align_self": null,
            "border": null,
            "bottom": null,
            "display": null,
            "flex": null,
            "flex_flow": null,
            "grid_area": null,
            "grid_auto_columns": null,
            "grid_auto_flow": null,
            "grid_auto_rows": null,
            "grid_column": null,
            "grid_gap": null,
            "grid_row": null,
            "grid_template_areas": null,
            "grid_template_columns": null,
            "grid_template_rows": null,
            "height": null,
            "justify_content": null,
            "justify_items": null,
            "left": null,
            "margin": null,
            "max_height": null,
            "max_width": null,
            "min_height": null,
            "min_width": null,
            "object_fit": null,
            "object_position": null,
            "order": null,
            "overflow": null,
            "overflow_x": null,
            "overflow_y": null,
            "padding": null,
            "right": null,
            "top": null,
            "visibility": null,
            "width": null
          }
        },
        "1d543b2764844d7b9c430f132b8fd626": {
          "model_module": "@jupyter-widgets/controls",
          "model_name": "ProgressStyleModel",
          "model_module_version": "1.5.0",
          "state": {
            "_model_module": "@jupyter-widgets/controls",
            "_model_module_version": "1.5.0",
            "_model_name": "ProgressStyleModel",
            "_view_count": null,
            "_view_module": "@jupyter-widgets/base",
            "_view_module_version": "1.2.0",
            "_view_name": "StyleView",
            "bar_color": null,
            "description_width": ""
          }
        },
        "8be3fe453309493bb2dfee32754d229b": {
          "model_module": "@jupyter-widgets/base",
          "model_name": "LayoutModel",
          "model_module_version": "1.2.0",
          "state": {
            "_model_module": "@jupyter-widgets/base",
            "_model_module_version": "1.2.0",
            "_model_name": "LayoutModel",
            "_view_count": null,
            "_view_module": "@jupyter-widgets/base",
            "_view_module_version": "1.2.0",
            "_view_name": "LayoutView",
            "align_content": null,
            "align_items": null,
            "align_self": null,
            "border": null,
            "bottom": null,
            "display": null,
            "flex": null,
            "flex_flow": null,
            "grid_area": null,
            "grid_auto_columns": null,
            "grid_auto_flow": null,
            "grid_auto_rows": null,
            "grid_column": null,
            "grid_gap": null,
            "grid_row": null,
            "grid_template_areas": null,
            "grid_template_columns": null,
            "grid_template_rows": null,
            "height": null,
            "justify_content": null,
            "justify_items": null,
            "left": null,
            "margin": null,
            "max_height": null,
            "max_width": null,
            "min_height": null,
            "min_width": null,
            "object_fit": null,
            "object_position": null,
            "order": null,
            "overflow": null,
            "overflow_x": null,
            "overflow_y": null,
            "padding": null,
            "right": null,
            "top": null,
            "visibility": null,
            "width": null
          }
        },
        "13ecb130feab4ee6815d22c39363f739": {
          "model_module": "@jupyter-widgets/controls",
          "model_name": "DescriptionStyleModel",
          "model_module_version": "1.5.0",
          "state": {
            "_model_module": "@jupyter-widgets/controls",
            "_model_module_version": "1.5.0",
            "_model_name": "DescriptionStyleModel",
            "_view_count": null,
            "_view_module": "@jupyter-widgets/base",
            "_view_module_version": "1.2.0",
            "_view_name": "StyleView",
            "description_width": ""
          }
        },
        "f963ce2191c64dfd986dd434898a02ce": {
          "model_module": "@jupyter-widgets/controls",
          "model_name": "HBoxModel",
          "model_module_version": "1.5.0",
          "state": {
            "_dom_classes": [],
            "_model_module": "@jupyter-widgets/controls",
            "_model_module_version": "1.5.0",
            "_model_name": "HBoxModel",
            "_view_count": null,
            "_view_module": "@jupyter-widgets/controls",
            "_view_module_version": "1.5.0",
            "_view_name": "HBoxView",
            "box_style": "",
            "children": [
              "IPY_MODEL_cb8492b0789d40daa865278a130d951f",
              "IPY_MODEL_ba506b65b57f406f81e3c5f2b9e2adc3",
              "IPY_MODEL_2e0049a189e7455d9a8fbdf2d6b1286b"
            ],
            "layout": "IPY_MODEL_399987b23a5f4d00b1007d2bb2681d34"
          }
        },
        "cb8492b0789d40daa865278a130d951f": {
          "model_module": "@jupyter-widgets/controls",
          "model_name": "HTMLModel",
          "model_module_version": "1.5.0",
          "state": {
            "_dom_classes": [],
            "_model_module": "@jupyter-widgets/controls",
            "_model_module_version": "1.5.0",
            "_model_name": "HTMLModel",
            "_view_count": null,
            "_view_module": "@jupyter-widgets/controls",
            "_view_module_version": "1.5.0",
            "_view_name": "HTMLView",
            "description": "",
            "description_tooltip": null,
            "layout": "IPY_MODEL_738cf3231370460e837c8c4571a31fbe",
            "placeholder": "​",
            "style": "IPY_MODEL_32205ef23da54fd69b7ae59b43e130df",
            "value": "Batches: 100%"
          }
        },
        "ba506b65b57f406f81e3c5f2b9e2adc3": {
          "model_module": "@jupyter-widgets/controls",
          "model_name": "FloatProgressModel",
          "model_module_version": "1.5.0",
          "state": {
            "_dom_classes": [],
            "_model_module": "@jupyter-widgets/controls",
            "_model_module_version": "1.5.0",
            "_model_name": "FloatProgressModel",
            "_view_count": null,
            "_view_module": "@jupyter-widgets/controls",
            "_view_module_version": "1.5.0",
            "_view_name": "ProgressView",
            "bar_style": "success",
            "description": "",
            "description_tooltip": null,
            "layout": "IPY_MODEL_0e77fe43771f4e2da7680ee5b5622ba1",
            "max": 7,
            "min": 0,
            "orientation": "horizontal",
            "style": "IPY_MODEL_bd23bba1cb3e4405a3c5d3d1a9c8a673",
            "value": 7
          }
        },
        "2e0049a189e7455d9a8fbdf2d6b1286b": {
          "model_module": "@jupyter-widgets/controls",
          "model_name": "HTMLModel",
          "model_module_version": "1.5.0",
          "state": {
            "_dom_classes": [],
            "_model_module": "@jupyter-widgets/controls",
            "_model_module_version": "1.5.0",
            "_model_name": "HTMLModel",
            "_view_count": null,
            "_view_module": "@jupyter-widgets/controls",
            "_view_module_version": "1.5.0",
            "_view_name": "HTMLView",
            "description": "",
            "description_tooltip": null,
            "layout": "IPY_MODEL_957126519ac84f978a5f574e01e4163f",
            "placeholder": "​",
            "style": "IPY_MODEL_b74ccbb0ab954dcbbc2639bf8b77e812",
            "value": " 7/7 [00:45&lt;00:00,  3.93s/it]"
          }
        },
        "399987b23a5f4d00b1007d2bb2681d34": {
          "model_module": "@jupyter-widgets/base",
          "model_name": "LayoutModel",
          "model_module_version": "1.2.0",
          "state": {
            "_model_module": "@jupyter-widgets/base",
            "_model_module_version": "1.2.0",
            "_model_name": "LayoutModel",
            "_view_count": null,
            "_view_module": "@jupyter-widgets/base",
            "_view_module_version": "1.2.0",
            "_view_name": "LayoutView",
            "align_content": null,
            "align_items": null,
            "align_self": null,
            "border": null,
            "bottom": null,
            "display": null,
            "flex": null,
            "flex_flow": null,
            "grid_area": null,
            "grid_auto_columns": null,
            "grid_auto_flow": null,
            "grid_auto_rows": null,
            "grid_column": null,
            "grid_gap": null,
            "grid_row": null,
            "grid_template_areas": null,
            "grid_template_columns": null,
            "grid_template_rows": null,
            "height": null,
            "justify_content": null,
            "justify_items": null,
            "left": null,
            "margin": null,
            "max_height": null,
            "max_width": null,
            "min_height": null,
            "min_width": null,
            "object_fit": null,
            "object_position": null,
            "order": null,
            "overflow": null,
            "overflow_x": null,
            "overflow_y": null,
            "padding": null,
            "right": null,
            "top": null,
            "visibility": null,
            "width": null
          }
        },
        "738cf3231370460e837c8c4571a31fbe": {
          "model_module": "@jupyter-widgets/base",
          "model_name": "LayoutModel",
          "model_module_version": "1.2.0",
          "state": {
            "_model_module": "@jupyter-widgets/base",
            "_model_module_version": "1.2.0",
            "_model_name": "LayoutModel",
            "_view_count": null,
            "_view_module": "@jupyter-widgets/base",
            "_view_module_version": "1.2.0",
            "_view_name": "LayoutView",
            "align_content": null,
            "align_items": null,
            "align_self": null,
            "border": null,
            "bottom": null,
            "display": null,
            "flex": null,
            "flex_flow": null,
            "grid_area": null,
            "grid_auto_columns": null,
            "grid_auto_flow": null,
            "grid_auto_rows": null,
            "grid_column": null,
            "grid_gap": null,
            "grid_row": null,
            "grid_template_areas": null,
            "grid_template_columns": null,
            "grid_template_rows": null,
            "height": null,
            "justify_content": null,
            "justify_items": null,
            "left": null,
            "margin": null,
            "max_height": null,
            "max_width": null,
            "min_height": null,
            "min_width": null,
            "object_fit": null,
            "object_position": null,
            "order": null,
            "overflow": null,
            "overflow_x": null,
            "overflow_y": null,
            "padding": null,
            "right": null,
            "top": null,
            "visibility": null,
            "width": null
          }
        },
        "32205ef23da54fd69b7ae59b43e130df": {
          "model_module": "@jupyter-widgets/controls",
          "model_name": "DescriptionStyleModel",
          "model_module_version": "1.5.0",
          "state": {
            "_model_module": "@jupyter-widgets/controls",
            "_model_module_version": "1.5.0",
            "_model_name": "DescriptionStyleModel",
            "_view_count": null,
            "_view_module": "@jupyter-widgets/base",
            "_view_module_version": "1.2.0",
            "_view_name": "StyleView",
            "description_width": ""
          }
        },
        "0e77fe43771f4e2da7680ee5b5622ba1": {
          "model_module": "@jupyter-widgets/base",
          "model_name": "LayoutModel",
          "model_module_version": "1.2.0",
          "state": {
            "_model_module": "@jupyter-widgets/base",
            "_model_module_version": "1.2.0",
            "_model_name": "LayoutModel",
            "_view_count": null,
            "_view_module": "@jupyter-widgets/base",
            "_view_module_version": "1.2.0",
            "_view_name": "LayoutView",
            "align_content": null,
            "align_items": null,
            "align_self": null,
            "border": null,
            "bottom": null,
            "display": null,
            "flex": null,
            "flex_flow": null,
            "grid_area": null,
            "grid_auto_columns": null,
            "grid_auto_flow": null,
            "grid_auto_rows": null,
            "grid_column": null,
            "grid_gap": null,
            "grid_row": null,
            "grid_template_areas": null,
            "grid_template_columns": null,
            "grid_template_rows": null,
            "height": null,
            "justify_content": null,
            "justify_items": null,
            "left": null,
            "margin": null,
            "max_height": null,
            "max_width": null,
            "min_height": null,
            "min_width": null,
            "object_fit": null,
            "object_position": null,
            "order": null,
            "overflow": null,
            "overflow_x": null,
            "overflow_y": null,
            "padding": null,
            "right": null,
            "top": null,
            "visibility": null,
            "width": null
          }
        },
        "bd23bba1cb3e4405a3c5d3d1a9c8a673": {
          "model_module": "@jupyter-widgets/controls",
          "model_name": "ProgressStyleModel",
          "model_module_version": "1.5.0",
          "state": {
            "_model_module": "@jupyter-widgets/controls",
            "_model_module_version": "1.5.0",
            "_model_name": "ProgressStyleModel",
            "_view_count": null,
            "_view_module": "@jupyter-widgets/base",
            "_view_module_version": "1.2.0",
            "_view_name": "StyleView",
            "bar_color": null,
            "description_width": ""
          }
        },
        "957126519ac84f978a5f574e01e4163f": {
          "model_module": "@jupyter-widgets/base",
          "model_name": "LayoutModel",
          "model_module_version": "1.2.0",
          "state": {
            "_model_module": "@jupyter-widgets/base",
            "_model_module_version": "1.2.0",
            "_model_name": "LayoutModel",
            "_view_count": null,
            "_view_module": "@jupyter-widgets/base",
            "_view_module_version": "1.2.0",
            "_view_name": "LayoutView",
            "align_content": null,
            "align_items": null,
            "align_self": null,
            "border": null,
            "bottom": null,
            "display": null,
            "flex": null,
            "flex_flow": null,
            "grid_area": null,
            "grid_auto_columns": null,
            "grid_auto_flow": null,
            "grid_auto_rows": null,
            "grid_column": null,
            "grid_gap": null,
            "grid_row": null,
            "grid_template_areas": null,
            "grid_template_columns": null,
            "grid_template_rows": null,
            "height": null,
            "justify_content": null,
            "justify_items": null,
            "left": null,
            "margin": null,
            "max_height": null,
            "max_width": null,
            "min_height": null,
            "min_width": null,
            "object_fit": null,
            "object_position": null,
            "order": null,
            "overflow": null,
            "overflow_x": null,
            "overflow_y": null,
            "padding": null,
            "right": null,
            "top": null,
            "visibility": null,
            "width": null
          }
        },
        "b74ccbb0ab954dcbbc2639bf8b77e812": {
          "model_module": "@jupyter-widgets/controls",
          "model_name": "DescriptionStyleModel",
          "model_module_version": "1.5.0",
          "state": {
            "_model_module": "@jupyter-widgets/controls",
            "_model_module_version": "1.5.0",
            "_model_name": "DescriptionStyleModel",
            "_view_count": null,
            "_view_module": "@jupyter-widgets/base",
            "_view_module_version": "1.2.0",
            "_view_name": "StyleView",
            "description_width": ""
          }
        },
        "8aad5611b7924a8eb13823e7a4a1e876": {
          "model_module": "@jupyter-widgets/controls",
          "model_name": "HBoxModel",
          "model_module_version": "1.5.0",
          "state": {
            "_dom_classes": [],
            "_model_module": "@jupyter-widgets/controls",
            "_model_module_version": "1.5.0",
            "_model_name": "HBoxModel",
            "_view_count": null,
            "_view_module": "@jupyter-widgets/controls",
            "_view_module_version": "1.5.0",
            "_view_name": "HBoxView",
            "box_style": "",
            "children": [
              "IPY_MODEL_906b6199ed3347e3ac4d5d68e298546e",
              "IPY_MODEL_7e88a635c8ef4e3795412ced5a6ce57d",
              "IPY_MODEL_1bdf1a55d2e940f0af00bfe621e39069"
            ],
            "layout": "IPY_MODEL_32677420ee6247b2a8996d6b6adff736"
          }
        },
        "906b6199ed3347e3ac4d5d68e298546e": {
          "model_module": "@jupyter-widgets/controls",
          "model_name": "HTMLModel",
          "model_module_version": "1.5.0",
          "state": {
            "_dom_classes": [],
            "_model_module": "@jupyter-widgets/controls",
            "_model_module_version": "1.5.0",
            "_model_name": "HTMLModel",
            "_view_count": null,
            "_view_module": "@jupyter-widgets/controls",
            "_view_module_version": "1.5.0",
            "_view_name": "HTMLView",
            "description": "",
            "description_tooltip": null,
            "layout": "IPY_MODEL_3d14ad714df84bd1854106e189579c5d",
            "placeholder": "​",
            "style": "IPY_MODEL_754be7f5404549029f6d13f9db22ca61",
            "value": "Batches: 100%"
          }
        },
        "7e88a635c8ef4e3795412ced5a6ce57d": {
          "model_module": "@jupyter-widgets/controls",
          "model_name": "FloatProgressModel",
          "model_module_version": "1.5.0",
          "state": {
            "_dom_classes": [],
            "_model_module": "@jupyter-widgets/controls",
            "_model_module_version": "1.5.0",
            "_model_name": "FloatProgressModel",
            "_view_count": null,
            "_view_module": "@jupyter-widgets/controls",
            "_view_module_version": "1.5.0",
            "_view_name": "ProgressView",
            "bar_style": "success",
            "description": "",
            "description_tooltip": null,
            "layout": "IPY_MODEL_3f26452f338c4ee2a13aea8b51035a5e",
            "max": 7,
            "min": 0,
            "orientation": "horizontal",
            "style": "IPY_MODEL_4f9cc763bafe478e9e8aae646953838d",
            "value": 7
          }
        },
        "1bdf1a55d2e940f0af00bfe621e39069": {
          "model_module": "@jupyter-widgets/controls",
          "model_name": "HTMLModel",
          "model_module_version": "1.5.0",
          "state": {
            "_dom_classes": [],
            "_model_module": "@jupyter-widgets/controls",
            "_model_module_version": "1.5.0",
            "_model_name": "HTMLModel",
            "_view_count": null,
            "_view_module": "@jupyter-widgets/controls",
            "_view_module_version": "1.5.0",
            "_view_name": "HTMLView",
            "description": "",
            "description_tooltip": null,
            "layout": "IPY_MODEL_388c670084584018b15f50c098de8f31",
            "placeholder": "​",
            "style": "IPY_MODEL_4057ebe269b44bf2bec2d3f77fc4199c",
            "value": " 7/7 [01:36&lt;00:00,  8.37s/it]"
          }
        },
        "32677420ee6247b2a8996d6b6adff736": {
          "model_module": "@jupyter-widgets/base",
          "model_name": "LayoutModel",
          "model_module_version": "1.2.0",
          "state": {
            "_model_module": "@jupyter-widgets/base",
            "_model_module_version": "1.2.0",
            "_model_name": "LayoutModel",
            "_view_count": null,
            "_view_module": "@jupyter-widgets/base",
            "_view_module_version": "1.2.0",
            "_view_name": "LayoutView",
            "align_content": null,
            "align_items": null,
            "align_self": null,
            "border": null,
            "bottom": null,
            "display": null,
            "flex": null,
            "flex_flow": null,
            "grid_area": null,
            "grid_auto_columns": null,
            "grid_auto_flow": null,
            "grid_auto_rows": null,
            "grid_column": null,
            "grid_gap": null,
            "grid_row": null,
            "grid_template_areas": null,
            "grid_template_columns": null,
            "grid_template_rows": null,
            "height": null,
            "justify_content": null,
            "justify_items": null,
            "left": null,
            "margin": null,
            "max_height": null,
            "max_width": null,
            "min_height": null,
            "min_width": null,
            "object_fit": null,
            "object_position": null,
            "order": null,
            "overflow": null,
            "overflow_x": null,
            "overflow_y": null,
            "padding": null,
            "right": null,
            "top": null,
            "visibility": null,
            "width": null
          }
        },
        "3d14ad714df84bd1854106e189579c5d": {
          "model_module": "@jupyter-widgets/base",
          "model_name": "LayoutModel",
          "model_module_version": "1.2.0",
          "state": {
            "_model_module": "@jupyter-widgets/base",
            "_model_module_version": "1.2.0",
            "_model_name": "LayoutModel",
            "_view_count": null,
            "_view_module": "@jupyter-widgets/base",
            "_view_module_version": "1.2.0",
            "_view_name": "LayoutView",
            "align_content": null,
            "align_items": null,
            "align_self": null,
            "border": null,
            "bottom": null,
            "display": null,
            "flex": null,
            "flex_flow": null,
            "grid_area": null,
            "grid_auto_columns": null,
            "grid_auto_flow": null,
            "grid_auto_rows": null,
            "grid_column": null,
            "grid_gap": null,
            "grid_row": null,
            "grid_template_areas": null,
            "grid_template_columns": null,
            "grid_template_rows": null,
            "height": null,
            "justify_content": null,
            "justify_items": null,
            "left": null,
            "margin": null,
            "max_height": null,
            "max_width": null,
            "min_height": null,
            "min_width": null,
            "object_fit": null,
            "object_position": null,
            "order": null,
            "overflow": null,
            "overflow_x": null,
            "overflow_y": null,
            "padding": null,
            "right": null,
            "top": null,
            "visibility": null,
            "width": null
          }
        },
        "754be7f5404549029f6d13f9db22ca61": {
          "model_module": "@jupyter-widgets/controls",
          "model_name": "DescriptionStyleModel",
          "model_module_version": "1.5.0",
          "state": {
            "_model_module": "@jupyter-widgets/controls",
            "_model_module_version": "1.5.0",
            "_model_name": "DescriptionStyleModel",
            "_view_count": null,
            "_view_module": "@jupyter-widgets/base",
            "_view_module_version": "1.2.0",
            "_view_name": "StyleView",
            "description_width": ""
          }
        },
        "3f26452f338c4ee2a13aea8b51035a5e": {
          "model_module": "@jupyter-widgets/base",
          "model_name": "LayoutModel",
          "model_module_version": "1.2.0",
          "state": {
            "_model_module": "@jupyter-widgets/base",
            "_model_module_version": "1.2.0",
            "_model_name": "LayoutModel",
            "_view_count": null,
            "_view_module": "@jupyter-widgets/base",
            "_view_module_version": "1.2.0",
            "_view_name": "LayoutView",
            "align_content": null,
            "align_items": null,
            "align_self": null,
            "border": null,
            "bottom": null,
            "display": null,
            "flex": null,
            "flex_flow": null,
            "grid_area": null,
            "grid_auto_columns": null,
            "grid_auto_flow": null,
            "grid_auto_rows": null,
            "grid_column": null,
            "grid_gap": null,
            "grid_row": null,
            "grid_template_areas": null,
            "grid_template_columns": null,
            "grid_template_rows": null,
            "height": null,
            "justify_content": null,
            "justify_items": null,
            "left": null,
            "margin": null,
            "max_height": null,
            "max_width": null,
            "min_height": null,
            "min_width": null,
            "object_fit": null,
            "object_position": null,
            "order": null,
            "overflow": null,
            "overflow_x": null,
            "overflow_y": null,
            "padding": null,
            "right": null,
            "top": null,
            "visibility": null,
            "width": null
          }
        },
        "4f9cc763bafe478e9e8aae646953838d": {
          "model_module": "@jupyter-widgets/controls",
          "model_name": "ProgressStyleModel",
          "model_module_version": "1.5.0",
          "state": {
            "_model_module": "@jupyter-widgets/controls",
            "_model_module_version": "1.5.0",
            "_model_name": "ProgressStyleModel",
            "_view_count": null,
            "_view_module": "@jupyter-widgets/base",
            "_view_module_version": "1.2.0",
            "_view_name": "StyleView",
            "bar_color": null,
            "description_width": ""
          }
        },
        "388c670084584018b15f50c098de8f31": {
          "model_module": "@jupyter-widgets/base",
          "model_name": "LayoutModel",
          "model_module_version": "1.2.0",
          "state": {
            "_model_module": "@jupyter-widgets/base",
            "_model_module_version": "1.2.0",
            "_model_name": "LayoutModel",
            "_view_count": null,
            "_view_module": "@jupyter-widgets/base",
            "_view_module_version": "1.2.0",
            "_view_name": "LayoutView",
            "align_content": null,
            "align_items": null,
            "align_self": null,
            "border": null,
            "bottom": null,
            "display": null,
            "flex": null,
            "flex_flow": null,
            "grid_area": null,
            "grid_auto_columns": null,
            "grid_auto_flow": null,
            "grid_auto_rows": null,
            "grid_column": null,
            "grid_gap": null,
            "grid_row": null,
            "grid_template_areas": null,
            "grid_template_columns": null,
            "grid_template_rows": null,
            "height": null,
            "justify_content": null,
            "justify_items": null,
            "left": null,
            "margin": null,
            "max_height": null,
            "max_width": null,
            "min_height": null,
            "min_width": null,
            "object_fit": null,
            "object_position": null,
            "order": null,
            "overflow": null,
            "overflow_x": null,
            "overflow_y": null,
            "padding": null,
            "right": null,
            "top": null,
            "visibility": null,
            "width": null
          }
        },
        "4057ebe269b44bf2bec2d3f77fc4199c": {
          "model_module": "@jupyter-widgets/controls",
          "model_name": "DescriptionStyleModel",
          "model_module_version": "1.5.0",
          "state": {
            "_model_module": "@jupyter-widgets/controls",
            "_model_module_version": "1.5.0",
            "_model_name": "DescriptionStyleModel",
            "_view_count": null,
            "_view_module": "@jupyter-widgets/base",
            "_view_module_version": "1.2.0",
            "_view_name": "StyleView",
            "description_width": ""
          }
        }
      }
    }
  },
  "cells": [
    {
      "cell_type": "markdown",
      "metadata": {
        "id": "view-in-github",
        "colab_type": "text"
      },
      "source": [
        "<a href=\"https://colab.research.google.com/github/lrahbek/bachelor_scz/blob/main/analysis_2.ipynb\" target=\"_parent\"><img src=\"https://colab.research.google.com/assets/colab-badge.svg\" alt=\"Open In Colab\"/></a>"
      ]
    },
    {
      "cell_type": "markdown",
      "source": [
        "## Instrument overlap analysis using sentence transformer models"
      ],
      "metadata": {
        "id": "GBeNHHBDfavq"
      }
    },
    {
      "cell_type": "markdown",
      "source": [
        "### Set up: package import"
      ],
      "metadata": {
        "id": "Gn4uHBS5fksQ"
      }
    },
    {
      "cell_type": "code",
      "execution_count": null,
      "metadata": {
        "id": "HswAIrtpgS8a"
      },
      "outputs": [],
      "source": [
        "pip install -U sentence-transformers"
      ]
    },
    {
      "cell_type": "code",
      "source": [
        "# Import packages\n",
        "import os\n",
        "import numpy as np\n",
        "import pandas as pd\n",
        "import torch\n",
        "import sentence_transformers\n",
        "import pickle\n",
        "from sentence_transformers import SentenceTransformer, SentencesDataset, InputExample, losses, util, evaluation\n",
        "from sentence_transformers.evaluation import TripletEvaluator, BinaryClassificationEvaluator"
      ],
      "metadata": {
        "id": "0J7HBPcgga_0"
      },
      "execution_count": null,
      "outputs": []
    },
    {
      "cell_type": "code",
      "source": [
        "# Set working directory\n",
        "os.chdir(\"drive/MyDrive/Bachelor\")"
      ],
      "metadata": {
        "id": "ULUxj22mgpn-"
      },
      "execution_count": null,
      "outputs": []
    },
    {
      "cell_type": "markdown",
      "source": [
        "### Load in item files"
      ],
      "metadata": {
        "id": "QOXMoESyfoxp"
      }
    },
    {
      "cell_type": "code",
      "source": [
        "# Download items, codes and scale files\n",
        "items_txt = open(\"items.txt\", \"r\")\n",
        "items_str = items_txt.read()\n",
        "items = items_str.split(\"\\n\")\n",
        "print(items)\n",
        "items_txt.close()\n",
        "\n",
        "codes_txt = open(\"code.txt\", \"r\")\n",
        "codes_str = codes_txt.read()\n",
        "codes = codes_str.split(\"\\n\")\n",
        "print(codes)\n",
        "codes_txt.close()\n",
        "\n",
        "scales_txt = open(\"scale.txt\", \"r\")\n",
        "scales_str = scales_txt.read()\n",
        "scales = scales_str.split(\"\\n\")\n",
        "print(scales)\n",
        "scales_txt.close()\n",
        "\n",
        "names_txt = open(\"name.txt\", \"r\")\n",
        "names_str = names_txt.read()\n",
        "names = names_str.split(\"\\n\")\n",
        "print(names)\n",
        "names_txt.close()"
      ],
      "metadata": {
        "colab": {
          "base_uri": "https://localhost:8080/"
        },
        "id": "1akQ_VESh3jN",
        "outputId": "eef16467-9802-457a-d48b-cd12ae290097"
      },
      "execution_count": null,
      "outputs": [
        {
          "output_type": "stream",
          "name": "stdout",
          "text": [
            "['Unchanging Facial Expression - The subject\\'s face appears wooden, mechanical, frozen. It doe not change expression, or changes less than normally expected, as the emotional content of discourse changes. Since phenothiazines may partially mimic this effect, the interviewer should be careful to not whether or not the subject is on medication, but should not try to \"correct\" the rating accordingly. Occasionally the subject’s expression is not as full as expected. Subject’s expressions are dulled overall, but not absent. Subject’s face has a flat “set” look, but flickers of affect arise occasionally. Subject’s face looks “wooden” and changes little, if at all throughout the interview.', 'Decreased Spontaneous Movements - The subject sits quietly throughout the interview and shows few or no spontaneous movements. He does not shift position, move his legs, move his hands, etc., or does so less than normally expected. Some decrease in spontaneous movements. Subject moves three or four times during the interview. Subject moves once or twice during the interview. Subject sits immobile throughout the interview.', 'Paucity of Expressive Gestures - The subject does not use his body as an aid in expressing his ideas, through such means as hand gestures, sitting forward in his chair when intent on a subject, leaning back when relaxed, etc. This may occur in addition to decreased spontaneous movements. Some decrease in expressive gestures. Subjects uses body as an aid in expression at least three or four times. Subject uses body as an aid in expression only once or twice. Subject never uses body as an aid expression.', 'Poor Eye Contact - The subject avoids looking at others or using his eyes as an aid in expression. He appears to be staring into space when he is talking. Some decrease in eye contact and eye expression. Subject’s eye contact is decreased by at least half of normal. Subject’s eye contact is very infrequent. Subject almost never looks at interviewer.', 'Affective Nonresponsivity - Failure to smile or laugh when prompted may be tested by smiling or joking in a way which would usually elicit a smile from a normal individual. The examiner may also ask, \"Have you forgotten how to smile?\" while smiling himself. Slight but definite lack of responsivity. Subject occasionally seems to miss the cues to respond. Subjects seems to miss the cues to respond most of the time. Subject is essentially unresponsive, even on prompting.', 'Lack of Vocal Inflections - While speaking the subject fails to show normal vocal emphasis patterns. Speech has a monotonic quality, and important words are not emphasized through changes in pitch or volume. Subject also may fail to change volume with changes of subject so that he does not drop his voice when discussing private topics nor raise it as he discusses things which are exciting or for which louder speech might be appropriate. Slight decrease in vocal inflections. Interviewer notices several instances of flattened vocal inflections. Obvious decrease in vocal inflections. Subject’s speech is a continuous monotone.', \"Global Rating of Affective Flattening - The global rating should focus on overall severity of affective flattening or blunting. Special emphasis should be given to such core features as unresponsiveness, inappropriateness, and an overall decrease in emotional intensity. Affective flattening or blunting manifests itself as a characteristic impoverishment of emotional expression, reactivity, and feeling. Affective flattening can be evaluated by observation of the subject's behavior and responsiveness during a routine interview. Mild affective flattening. Moderate affective flattening. Marked affective flattening. Severe affective flattening.\", 'Inappropriate Affect - Affect expressed is inappropriate or incongruous, not simply flat or blunted. Most typically, this manifestation of affective disturbances takes the form of smiling or assuming a silly facial expression while talking about a serious or sad subject. (Occasionally subjects may smile or laugh when talking about a serious subject which they find uncomfortable or embarrassing. Although their smiling may seem inappropriate, it is due to anxiety and therefore should not be rated as inappropriate affect.) Do not rate affective flattening or blunting as inappropriate. At least one instance of inappropriate smiling or other inappropriate affect. Subject exhibits two or for instances of inappropriate affect. Subject exhibits five to ten instances of inappropriate affect. Subject’s affect is inappropriate most of the time.', 'Poverty of Speech - Restriction in the amount of spontaneous speech, so that replies to questions to  be brief, concrete, and unelaborated. Unprompted additional information is rarely provided. Replies may be monosyllabic, and some questions may be left unanswered altogether. When confronted with this speech pattern, the interviewer may find himself frequently prompting the subject in order to encourage elaboration of replies. To elicit this finding, the examiner must allow the subject adequate to  answer and to elaborate his answer. Occasional replies do not include elaborated information even though this is appropriate. Some replies do not include appropriately elaborated information, and some replies are monosyllabic or very brief – (“Yes.” “No.” “Maybe.” “I don’t know.” “last week.”). Answers are rarely more than one sentence or a few words in length.  Subject says almost nothing and occasionally fails to answer.', 'Poverty of Content of Speech - Although replies are long enough so that speech is adequate in amount, it conveys little information. Language tends to be vague, often over-abstract or over-concrete, repetitive, and stereotyped. The interviewer may recognize this finding by observing that the subject has spoken at some length but has not given adequate information to answer the question. Alternatively, the subject may provide enough information, but require many words to do so, so that a lengthy reply can be summarized in a sentence or two. Sometimes the interviewer may characterize the speech as \"empty philosophizing\". Occasional replies are too vague to be comprehensible or can be markedly condensed. Frequent replies which are vague or can be markedly condensed to make up at least a quarter of the interview. At least half of the subject’s speech is composed of vague or incomprehensible replies. Nearly all the speech is vague, incomprehensible, or can be markedly condensed.', 'Blocking - Interruption of a train of speech before a though or idea has been completed. After a period of silence which may last from a few seconds to minutes, the person indicates that she/he cannot recall what he had been saying or meant to say. Blocking should only be judged to be present if a person voluntarily describes losing his thought or if, upon questioning by the interviewer, the person indicates that that was the reason for pausing. A single instance noted during a forty-five minute period. Occurs twice during forty-five minutes. Occurs three or four times during forty-five minutes. Occurs more than four times in forty-five minutes.', 'Increased Latency of Response - The subject takes longer time to reply to questions that is usually considered normal. He may seems \"distant\" and sometimes the examiner may wonder if he has even heard the question. Prompting usually indicates that the subject is aware of the question, but has been having difficulty in formulating his thought in order to make an appropriate reply. Occasional brief pauses before replying. Often pauses several seconds before replying. Usually pauses at least ten to fifteen seconds before replying. Long pauses prior to nearly all replies.', \"Global Rating of Alogia - Since the core features of alogia are poverty of speech and poverty of content of speech, the global rating should place particular emphasis on them. Alogia is a general term coined to refer to the impoverished thinking and cognition that often occur in subjects with schizophrenia (Greek a = no, none; logos = mind, thought). Subjects with alogia have thinking processes that seem empty, turgid, or slow. Since thinking cannot be observed directly, it is inferred from the subject's speech. The two major manifestations of alogia are nonfluent empty speech (poverty of speech) and fluent empty speech (poverty of content of speech). Blocking and increased latency of response may also reflect alogia. Mild but definite impoverishment in thinking. Significant evidence for impoverished thinking. Subject’s thinking seems impoverished much of the time. Subject’s thinking seems impoverished nearly all of the time.\", 'Grooming and Hygiene - The subject displays less attention to grooming and hygiene that normal. Clothing may appear sloppy, outdated, or soiled. The subject may bathe infrequently and not care for hair, nails, or teeth; leading to such manifestations as greasy or uncombed hair, dirty hands, body odor, or unclean teeth and bad breath. Overall, the appearance is dilapidated and disheveled. In extreme cases, the subject may even have poor toilet habits. Some slight but definite indication of inattention to appearance, i.e., messy hair or disheveled clothes. Appearance is somewhat disheveled, i.e., greasy hair, dirty clothes. Subject’s attempts to keep up grooming or hygiene are minimal. Subject’s clothes, body and environment are dirty and smelly.', 'Impersistence at Work or School - The subject has had difficulty in seeking or maintaining employment (or schoolwork) as appropriate for his or her age and sex. If a student, he/she does not do homework and may even fail to attend class. Grades will tend to reflect this. If a college student, there may be a pattern of registering for courses, but having to drop several of all of them before the semester is completed. If of working age, the subject may have found it difficult to work at a job because of inability to persist in completing tasks and apparent irresponsibility. He may go to work irregularly, wander away early, complete them in a disorganized manner. He may simply sit around the house and not seek any employment or seek it only in an infrequent and desultory manner. If a housewife or retired person, the subject may fail to complete chores, such as shopping or cleaning, or complete them in an apparently careless and half-hearted way. Slight indications of impersistence, i.e., missing a couple days of school or work. Subject often has poor performance at work or school. Subject has much difficulty maintain even a below normal level of work or school. Subject consistently fails to maintain a record at work or school.', 'Physical Anergia - The subject tends to be physically inert. He may sit in a hair for hours at a time and not initiate any spontaneous activity. If encouraged to become involved in an activity, he may participate only briefly and then wander away or disengage himself and return to sitting alone. He may spend large amounts of time in some relatively mindless and physically inactive task such as watching TV or playing solitaire. His family may report that he spends most of his time at home \"doing nothing except sitting around\". Either at home or in an inpatient setting he may spend much of his time sitting in his room. Mild anergia. Subject lies in bed or sits immobile at least a quarter of normal waking hours. Subject lines in bed or sits immobile at least half of normal waking hours. Subject lies in bed or sits immobile for most of the day.', \"Global Rating of Avolition/Apathy - The global rating should reflect the overall severity of the avolition symptoms, given expectational norms for subject's age and social status and origin. In making the global rating, strong weight may be given to only one or two prominent symptoms if they are particularly striking. Avolition manifests itself as a characteristic lack of energy, drive, and interest. Subjects are unable to mobilize themselves to initiate or persist in completing many different kinds of tasks. Unlike the diminished energy or interest of depression, the avolitional symptom complex in schizophrenia is usually not accompanied by saddened or depressed affect. The avolitional symptom complex often leads to severe social and economic impairment. Mild but definitely present. moderate avolition. Marked avolition. Severe avolition.\", 'Recreational Interests and Activities - The subject may have few or not interests, activities or hobbies. Although this symptom may begin insidiously or slowly, there will usually be some obvious decline from an earlier level of interest and activity. Subjects with relatively milder loss of interest will engage in some activities which are passive or non-demanding, such as watching TV, or will show only occasional sporadic interest. Subjects with the most extreme loss will appear to have a complete and intractible inability to become involved in or enjoy activities. The rating in this area should take both quality and quantity of recreational interest into account. Mild inability to enjoy recreational activities. Subject often is not “up” for recreational activities. Subject has little interest in and derives only mild pleasure from recreational activities. Subject has no interest in and derives no pleasure from recreational activities.', \"Sexual Interest and Activity - The subject may show a decrement in sexual interest and activity, as judged by what would be normal for the subject's age and marital status. Individuals who are married may manifest disinterest in sex or may engage in intercourse only at the partner's request. In extreme cases, the subject may not engage in any sex at all. Single subjects may go for long periods of time without sexual involvement and make no effort to satisfy this drive. Whether married or single, they may report that they subjectively feel only minimal sex drive or that they take little enjoyment in sexual intercourse or in masturbatory activity even when they engage in it. Mild decrement in sexual interest and activity. Subject occasionally has notices decreased interest in and/or enjoyment from sexual activities. Subject has little interest in and/or derives little pleasure from sexual activities. Subject has no interest in and/or derives no pleasure from sexual activities.\", 'Ability to Feel Intimacy and Closeness - The subject may display an inability to form close and intimate relationships of a type appropriate for his age, sex, and family status. In the case of a younger person, this area should be rated in terms of relationships with the opposite sex and with parents and siblings. In the case of an older person who is married, the relationship with spouse and with children should be evaluated, while older unmarried individuals should be judged in terms of relationships with the opposite sex and any family members who live nearby. Subjects may display few or no feelings of affection to available family members. Or they may have arranges their lives so that they are completely isolated from any intimate relationships, living alone and making no effort to initiate contacts with family or members of the opposite sex. Mild, but definite inability to feel intimacy and closeness. Subject appears to enjoy family or significant others bit does not appear to “look forward” to visits. Subject appears neutral toward visits from family or significant others. Brightens only mildly. Subject prefers no contact with or is hostile toward family or significant others.', 'Relationships with Friends and Peers - Subjects may also be relatively restricted in their relationships with friends and peers of either sex. They may have few or no friends, make little or no effort to develop such relationships, and choose to spend all or most of their time alone. Mild, but definite inability to form friendships. Subject able to interact, but sees friends/acquaintances only two to three times per month. Subject has difficulty forming and/or keeping friendships. Sees friends/acquaintances only one to two times per month. Subject has no friends and no interest in developing any social ties.', \"Global Rating of Anhedonia/Asociality - The global rating should reflect the overall severity of the anhedonia-asocialty complex, taking into account the norms appropriate for the subject's age, sex and family status. The symptom complex encompasses the schizophrenic subject's difficulties in experiencing interest or pleasure. It may express itself as a loss of interest in pleasurable activities, an inability to experience pleasure when participating in activities normally considered pleasurable, or a lack of involvement in social relationships of various kinds. Mild, but definite evidence of anhedonia-asociality. Moderate evidence of anhedonia-asociality. Marked evidence of anhedonia-asociality. Severe evidence of anhedonia-asociality.\", 'Social Inattentiveness - While involved in social situations or activities, the subject appears inattentive. He looks away during conversations, does not pick up the topic during a discussion, or appears uninvolved or unengaged. He may abruptly terminate a discussion or a task without apparent reason. He may seem \"spacy\" or \"out of it\". He may seem to have poor concentration when playing games, reading, or watching TV. Mild, but definite signs of inattentiveness. Subject occasionally misses what is happening in the environment. Subject often misses what is happening in the environment; has trouble with reading comprehension. Subject unable to follow conversation, remember what he’s read, or follow TV plot.', 'Inattentiveness During Mental Status Testing - The subject may perform poorly on simple tests of intellectual functioning in spite of adequate education and intellectual ability. The should be assessed by having the subject spell \"world\" backwards and by serial 7\\'s (at least a tenth grade education) or serial3\\'s (at least a sixth grade education) for a series of five subtractions. A perfect score is 10. Mild, but definite (one error). Moderate (two errors). Marked (three errors). Severe (more than three errors).', \"Global Rating of Attention - The rating should asses the subject's overall ability to attend or concentrate, and include both clinical appearance and performance on tasks. Attention is often poor in schizophrenics. The subject may have trouble focusing his attention, or he may only be able to focus sporadically and erratically. He may ignore attempts to converse with him, wander away while in the middle of an activity or task, or appear to be inattentive when engaged in formal testing or interviewing. He may or may not be aware of his difficulty in focusing his attention. Mild, but definite inattentiveness. Moderate inattentiveness. Marked inattentiveness. Severe inattentiveness.\", 'Auditory Hallucinations - The subject has reported voices, noises, or sounds. The commonest auditory hallucinations involve hearing voices speaking to the subject or calling him names. The voices may be male or female, familiar or unfamiliar, and critical or complimentary. Typically, subjects suffering from schizophrenia experience the voices as unpleasant and negative. Hallucinations involving sounds rather than voices, such as noises or music, should be considered less characteristic and less severe. Subject hears noises or single words; they occur only occasionally. Clear evidence of voices; they have occurred at least weekly. Clear evidence of voices which occur almost every day. Voices occur often every day.', \"Voices Commenting - Voices commenting are a particular type of auditory hallucination which phenomenologists as Kurt Schneider consider to be pathognomonic of schizophrenia, although some recent evidence contradicts this. These hallucinations involve hearing a voice that makes a running commentary on the subject's behavior or thought as it occurs. If this is the only type of auditory hallucination that the subject hears, it should be scored instead of auditory hallucinations (No. 1 above). Usually, however, voices commenting will occur in addition to other types of auditory hallucinations. Subject hears noises or single words; they occur only occasionally. Clear evidence of voices; they have occurred at least weekly. Clear evidence of voices which occur almost every day. Voices occur often every day.\", 'Voices Conversing - Like voices commenting, voices conversing are considered a Schneiderian first-rank symptom. They involve hearing two or more voices talking with one another, usually discussing something about the subject. As in the case of voices commenting, they should be scored independently of other auditory hallucinations. Subject hears noises or single words; they occur only occasionally. Clear evidence of voices; they have occurred at least weekly. Clear evidence of voices which occur almost every day. Voices occur often every day.', 'Somatic or Tactile Hallucinations - These hallucinations involve experiencing peculiar physical sensations in the body. They include burning sensations, tingling, and perceptions that the body has changed in shape or size. Subject experiences peculiar physical sensations; they occur only occasionally. Clear evidence of somatic or tactile hallucinations; they have occurred at least weekly. Clear evidence of somatic or tactile hallucinations which occur almost every day. Hallucinations occur often every day.', 'Olfactory Hallucinations - The subject experiences unusual smells which are typically quite unpleasant. Sometimes the subject may believe that he himself smells. This belief should be scored here if the subject can actually smell the odor himself, but should be scored among delusions if he only believes that others can smell the odor. Subject experiences unusual smells; they occur only occasionally. Clear evidence of olfactory hallucinations; they have occurred at least weekly. Clear evidence of olfactory hallucinations; they occur almost every day. Olfactory hallucinations occur often every day.', \"Visual Hallucinations - The subject sees shapes or people that are not actually present. Sometimes these are shapes or colors, but most typically they are figures of people or human-like objects. They may also be characters of a religious nature, such as the Devil or Christ. As always, visual hallucinations involving religious themes should be judged within the context of the subject's cultural background. Hypnogogic and hypnopompic visual hallucinations (which are relatively common) should be excluded, as should visual hallucinations occurring when the subject has been taking hallucinogenic drugs. Subject experiences visual hallucinations; they occur only occasionally. Clear evidence of visual hallucinations; they have occurred at least weekly. Clear evidence of visual hallucinations which occur almost every day. Hallucinations occur often every day.\", \"Global Rating of Severity of Hallucinations - This global rating should be based on the duration and severity of hallucinations, the extent of the subject's preoccupation with the hallucinations, his degree of conviction, and their effect on his actions. Also consider the extent to which the hallucinations might be considered bizarre or unusual. Hallucinations not mentioned above, such as those involving taste, should be included in this rating. Hallucinations represent an abnormality in perception. They are false perceptions occurring in the absence of some identifiable external stimulus. They may be experienced in any of the sensory modalities, including hearing, touch, taste, smell, and vision. True hallucinations should be distinguished from illusions (which involve a misperception of an external stimulus), hypnogogic and hypnopompic experiences (which occur when the subject is falling asleep or waking up), or normal thought processes that are exceptionally vivid. If the hallucinations have a religious quality, then they should be judged within the context of what is normal for the subject's social and cultural background. Hallucinations occurring under the immediate influence of alcohol, drugs, or serious physical illness should not be rated as present. The subject should always be requested to describe the hallucination in detail. Hallucinations definitely present, but occur infrequently; at times the subject may question their existence. Hallucinations are vivid and occur occasionally; they may bother him to some extent. Hallucinations are quite vivid, occur frequently, and pervade his life. Hallucinations occur almost daily and are sometimes unusual or bizarre; they are very vivid and extremely troubling.\", \"Persecutory Delusions - People suffering from persecutory delusions believe that they are being conspired against or persecuted in some way. Common manifestations include the belief that one is being followed, that one's mail is being opened, that one's room or office is bugged, that the telephone is tapped, or that police, government officials, neighbors, or fellow workers are harassing the subject. Persecutory delusions are sometimes relatively isolated or fragmented, but sometimes the subject has a complex set of delusions involving both a wide range of forms of persecution and a belief that there is a well-designed conspiracy behind them. For example, a subject may believe that his house is bugged and that he is being followed because the government wrongly considers him a secret agent for a foreign government; this delusion may be so complex that it explains almost everything that happens to him. The ratings of severity should be based on duration and complexity. Delusional beliefs are simple and may be of several different types; subject may question them occasionally. Clear, consistent delusion that is firmly held. Consistent, firmly-held delusion that the subject acts on. Complex well-formed delusion that the subject acts on and that preoccupies him a great deal of the time; some aspects of the delusion or his reaction may seem quite bizarre.\", 'Delusions of Jealousy - The subject believes that his/her mate is having an affair with someone. Miscellaneous bits of information are construed as \"evidence\". The person usually goes to great effort to prove the existence of the affair, searching for hair in the bedclothes, the odor of shaving lotion or smoke on clothing, or receipts or checks indicating a gift has been bought for the lover. Elaborate plans are often made in order to trap the two together. Delusion clearly present, but the subject may question it occasionally. Clear consistent delusion that is firmly held. Consistent, firmly-held delusion that the subject acts on. Complex, well-formed delusion that the subject acts on and that preoccupies him a great deal of the time; some aspects of the delusion or his reaction may seem quite bizarre.', 'Delusions of Sin or Guilt - The subject believes that he has committed some terrible sin or done something unforgivable. Sometimes the subject is excessively or inappropriately preoccupied with things he did wrong as a child, such as masturbating. Sometimes the subject feels responsible for causing some disastrous event, such as a fire or accident, with which he in fact has no connection. Sometimes these delusions may have a religious flavor, involving the belief that the sin is unpardonable and that the subject will suffer eternal punishment from God. Sometimes the subject simply believes that he deserves punishment by society. The subject may spend a good deal of time confessing these sins to whomever will listen. Delusional beliefs may be simple and may be of several different types; subject may question them occasionally. Clear, consistent delusion that is firmly held. Consistent, firmly-held delusion that the subject acts on. Complex, well-formed delusion that the subject acts on and that preoccupies him a great deal of the time; some aspects of the delusion or his reaction may seem quite bizarre.', 'Grandiose Delusions - The subject believes that he has special powers or abilities. He may think he is actually some famous personage, such as a rock star, Napoleon, or Christ. He may believe he is writing some definitive book, composing a great piece of music, or developing some wonderful new invention. The subject is often suspicious that someone is trying to steal his ideas, and he may become quite irritable if his ideas are doubted. Delusional beliefs may be simple and may be of several different types; subject may question them occasionally. Clear, consistent delusion that is firmly held. Consistent, firmly-held delusion that the subject acts on. Complex, well-formed delusion that the subject acts on and that preoccupies him a great deal of the time; some aspects of the delusion or his reaction may seem quite bizarre.', \"Religious Delusions - The subject is preoccupied with false beliefs of a religious nature. Sometimes these exist within the context of a conventional religious system, such as beliefs about the Second Coming, the Antichrist, or possession by the Devil. At other times, they may involve an entirely new religious system or a pastiche of beliefs from a variety of religions, particularly Eastern religions, such as ideas about reincarnation or Nirvana. Religious delusions may be combined with grandiose delusions (if the subject considers himself a religious leader), delusions of guilt, or delusions of being controlled. Religious delusions must be outside the range considered normal for the subject's cultural and religious background. Delusional beliefs may be simple and may be of several different types; subject may question them occasionally. Clear, consistent delusion that is firmly held. Consistent, firmly-held delusion that the subject acts on. Complex, well-formed delusion that the subject acts on and that preoccupies him a great deal of the time; some aspects of the delusion or his reaction may seem quite bizarre.\", 'Somatic Delusions - The subject believes that somehow his body is diseased, abnormal, or changed. For example, he may believe that his stomach or brain is rotting, that his hands or penis have become enlarged, or that his facial features are unusual (dysmorphophobia). Sometimes somatic delusions are accompanied by tactile or other hallucinations, and when this occurs, both should be rated. (For example, the subject believes that he has ballbearings rolling around in his head, placed there by a dentist who filled his teeth, and can actually hear them clanking against one another.) Delusional beliefs may be simple and may be of several different types; subject may question them occasionally. Clear, consistent delusion that is firmly held. Consistent, firmly-held delusion that the subject acts on. Complex, well-formed delusion that the subject acts on and that preoccupies him a great deal of the time; some aspects of the delusion or his reaction may seem quite bizarre.', 'Ideas and Delusions of Reference - The subject believes that insignificant remarks, statements, or events refer to him or have some special meaning for him. For example, the subject walks into a room, sees people laughing, and suspects that they were just talking about him and laughing at him. Sometimes items read in the paper, heard on the radio, or seen on television are considered to be special messages to the subject. In the case of ideas of reference, the subject is suspicious, but recognizes his idea is erroneous. When the subject actually believes that the statements or events refer to him, then this is considered a delusion of reference. Occasional ideas of reference. Have occurred at least weekly. Occurs at least two to four times weekly. Occurs frequently.', \"Delusions of Being Controlled - The subject has a subjective experience that his feelings or actions are controlled by some outside force. The central requirement for this type of delusion is an actual strong subjective experience of being controlled. It does not include simple beliefs or ideas, such as that the subject is acting as an agent of God or that friends or parents are trying to coerce him to do something. Rather, the subject must describe, for example, that his body has been occupied by some alien force that is making it move in peculiar ways, or that messages are being sent to his brain by radio waves and causing him to experience particular feelings that he recognizes are not his own. Subject has experienced being controlled, but doubts it occasionally. Clear experience of control, which has occurred on two or three occasions in a week. Clear experience of control, which occurs frequently; behavior may be affected. Clear experience of control which occurs frequently, pervades the subject's life, and often affects his behavior.\", \"Delusions of Mind Reading - The subject believes that people can read his mind or know his thoughts. This is different than thought broadcasting (see below) in that it is a belief without a percept. That is, the subject subjectively experiences and recognizes that others know his thoughts, but he does not think that they can be heard out loud. Subject has experienced mind reading, but doubts it occasionally. Clear experience of mind reading which has occurred on two or three occasions in a week. Clear experience of mind reading which occurs frequently; behavior may be affected. Clear experience of mind reading which occurs frequently, pervades the subject's life, and often affects his behavior.\", \"Thought Broadcasting - The subject believes that his thoughts are broadcast so that he or others can hear them. Sometimes the subject experiences his thoughts as a voice outside his head; this is an auditory hallucination as well as a delusion. Sometimes the subject feels his thoughts are being broadcast although he cannot hear them himself. Sometimes he believes that his thoughts are picked up by a microphone and broadcast on the radio or television. broadcasting which has occurred on two or three occasions in a week. Clear experience of thought broadcasting which occurs frequently; behavior may be affected. Clear experience of thought broadcasting which occurs frequently, pervades the subject's life, and often affects his behavior.\", \"Thought Insertion - The subject believes that thoughts that are not his own have been inserted into his mind. For example, the subject may believe that a neighbor is practicing voodoo and planting alien sexual thoughts in his mind. This symptom should not be confused with experiencing unpleasant thoughts that the subject recognizes as his own, such as delusions of persecution or guilt. Subject has experienced thought insertion, but doubts it occasionally. Clear experience of thought insertion which has occurred on two or three occasions in a week. Clear experience of thought insertion which occurs frequently; behavior may be affected. Thought insertion which occurs frequently, pervades the subject's life and affects behavior.\", \"Thought Withdrawal - The subject believes that thoughts have been taken away from his mind. He is able to describe a subjective experience of beginning a thought and then suddenly having it removed by some outside force. This symptom does not include the mere subjective recognition of alogia. Subject has experienced thought withdrawal, but doubts it occasionally. Clear experience of thought withdrawal which has occurred on two or three occasions in a week. Clear experience of thought withdrawal which occurs frequently; behavior may be affected. Clear experience of thought withdrawal which occurs frequently, pervades the subject's life and often affects his behavior.\", 'Global Rating of Severity of Delusions - The global rating should be based on duration and persistence of delusions, the extent of the subject\\'s preoccupation with the delusions, his degree of conviction, and their effect on his actions. Also consider the extent to which the delusions might be considered bizarre or unusual. Delusions not mentioned above should be included in this rating. Delusions represent an abnormality in content of thought. They are false beliefs that cannot be explained on the basis of the subject\\'s cultural background. Although delusions are sometimes defined as \"fixed false beliefs,\" in their mildest form delusions may persist only for weeks to months, and the subject may question his beliefs or doubt them. The subject\\'s behavior may or may not be influenced by his delusions. The rating of severity of individual delusions and of the global severity of delusional thinking should take into account their persistence, their complexity, the extent to which the subject acts on them, the extent to which the subject doubts them, and the extent to which the beliefs deviate from those that normal people might have. For each positive rating, specific examples should be noted in the margin. Delusion definitely present but, at times, the subject questions the belief. The subject is convinced of the belief, but it may occur infrequently and have little effect on his behavior. The delusion is firmly held; it occurs frequently and affects the subject\\'s behavior. Delusions are complex, well-formed, and pervasive; they are firmly held and have a major effect on the subject\\'s behavior; they may be somewhat bizarre or unusual.', \"Clothing and Appearance - The subject dresses in an unusual manner or does other strange things to alter his appearance. For example, he may shave off all his hair or paint parts of his body different colors. His clothing may be quite unusual; for example, he may choose to wear some outfit that appears generally inappropriate and unacceptable, such as a baseball cap backwards with rubber galoshes and long underwear covered by denim overalls. He may dress in a fantastic costume representing some historical personage or a man from outer space. He may wear clothing completely inappropriate to the climatic conditions, such as heavy wools in the midst of summer. Occasional oddities of dress or appearance. Appearance or apparel are clearly unusual and would attract attention. Appearance or apparel are markedly odd. Subject's appearance or apparel are very fantastic or bizarre.\", 'Social and Sexual Behavior - The subject may do things that are considered inappropriate according to usual social norms. For example, he may masturbate in public, urinate or defecate in inappropriate receptacles, or exhibit his sex organs inappropriately. He may walk along the street muttering to himself, or he may begin talking to people whom he has never met about his personal life (as when riding on a subway or standing in some public place). He may drop to his knees praying and shouting in the midst of a crowd of people, or he may suddenly sit in a yoga position while in the midst of a crowd. He may make inappropriate sexual overtures or remarks to strangers. Occasional instances of somewhat peculiar behavior. Frequent instances of odd behavior. Very odd behavior. Extremely odd behavior which may have a fantastic quality.', 'Aggressive and Agitated Behavior - The subject may behave in an aggressive, agitated manner, often quite unpredictably. He may start arguments inappropriately with friends or members of his family, or he may accost strangers on the street and begin haranguing them angrily. He may write letters of a threatening or angry nature to government officials or others with whom he has some quarrel. Occasionally, subjects may perform violent acts such as injuring or tormenting animals, or attempting to injure or kill human beings. Occasional instances. For example, writing angry letters to strangers. For example, threatening people, public harangues. For example, mutilating animals, attacking people.', 'Repetitive or Stereotyped Behavior - The subject may develop a set of repetitive actions or rituals that he must perform over and over. Frequently, he will attribute some symbolic significance to these actions and believe that they are either influencing others or preventing himself from being influenced. For example, he may eat jelly beans every night for dessert, assuming that different consequences will occur depending on the color of the jelly beans. He may have to eat foods in a particular order, wear particular clothes, or put them on in a certain order. He may have to write messages to himself or to others over and over; sometimes this will be in an unusual or occult language. Occasional instances of ritualistic or stereotyped behavior. For example, eating or dressing rituals lacking symbolic significance. For example, eating or dressing rituals with a symbolic significance. For example, keeping a diary in an incomprehensible language.', \"Global Rating of Severity of Bizarre Behavior - In making this rating, the interviewer should consider the type of behavior, the extent to which it deviates from social norms, the subject's awareness of the degree to which the behavior is deviant, and the extent to which it is obviously bizarre. The subject's behavior is unusual, bizarre, or fantastic. For example, the subject may urinate in a sugar bowl, paint the two halves of his body different colors, or kill a litter of pigs by smashing their heads against a wall. The information for this item will sometimes come from the subject, sometimes from other sources, and sometimes from direct observation. Bizarre behavior due to the immediate effects of alcohol or drugs should be excluded. As always, social and cultural norms must be considered in making the ratings, and detailed examples should be elicited and noted. Occasional instances of unusual or apparently idiosyncratic behavior; subject usually has some insight. Behavior which is clearly deviant from social norms and seems somewhat bizarre; subject may have some insight.  Behavior which is markedly deviant from social norms and clearly bizarre; subject may have some insight. Behavior which is extremely bizarre or fantastic; may include a single extreme act, e.g., attempting murder; subject usually lacks insight.\", 'Derailment (Loose Associations) - A pattern of spontaneous speech in which the ideas slip off one track onto another which is clearly but obliquely related, or onto one which is completely unrelated. Things may be said in juxtaposition which lack a meaningful relationship, or the subject may shift idiosyncratically from one frame of reference to another. At times there may be a vague connection between the ideas, and at others none will be apparent. This pattern of speech is often characterized as sounding \"disjointed.\" Perhaps the commonest manifestation of this disorder is a slow, steady slippage, with no single derailment being particularly severe, so that the speaker gets farther and farther off the track with each derailment without showing any awareness that his reply no longer has any connection with the question which was asked. This abnormality is often characterized by lack of cohesion between clauses and sentences and by unclear pronoun references. Occasional instances of derailment, with only slight topic shifts. Several instances of derailment; subject is sometimes difficult to follow. Frequent instances of derailment; subject is often difficult to follow. Derailment so frequent and/or extreme that the subject\\'s speech is almost incomprehensible.', 'Tangentiality - Replying to a question in an oblique, tangential or even irrelevant manner. The reply may be related to the question in some distant way. Or the reply may be unrelated and seem totally irrelevant. In the past tangentiality has sometimes been used as roughly equivalent to loose associations or derailment. The concept of tangentiality has been partially redefined so that it refers only to answers to questions and not to transitions in spontaneous speech. One or two oblique replies. Occasional oblique replies (three to four times). Frequent oblique replies (more than four times. Tangentiality so severe that interviewing the subject is extremely difficult.', \"Incoherence (Word Salad, Schizophasia) - A pattern of speech which is essentially incomprehensible at times. Incoherence is often accompanied by derailment. It differs from derailment in that in incoherence the abnormality occurs within the level of the sentence or clause, which contains words or phrases that are joined incoherently. The abnormality in derailment involves unclear or confusing connections between larger units, such as sentences or clauses. This type of language disorder is relatively rare. When it occurs, it tends to be severe or extreme, and mild forms are quite uncommon. It may sound quite similar to Wernicke's aphasia or jargon aphasia, and in these cases the disorder should only be called incoherence when history and laboratory data exclude the possibility of a past stroke, and formal testing for aphasia is negative. Occasional instances of incoherence. Frequent bursts of incoherence. At least half of the subject's speech is incomprehensible. Almost all of the subject's speech is incomprehensible.\", \"Illogicality - A pattern of speech in which conclusions are reached which do not follow logically. This may take the form of non-sequiturs (= it does not follow), in which the subject makes a logical inference between two clauses which is unwarranted or illogical. It may take the form of faulty inductive inferences. It may also take the form of reaching conclusions based on faulty premises without any actual delusional thinking. Occasional instances of illogicality. Frequent instances of illogicality (three or four times). Much of the subject's speech is illogical (more than four times). Most of the subject's speech is illogical.\", 'Circumstantiality - A pattern of speech which is very indirect and delayed in reaching its goal idea. In the process of explaining something, the speaker brings in many tedious details and sometimes makes parenthetical remarks. Circumstantial replies or statements may last for many minutes if the speaker is not interrupted and urged to get to the point. Interviewers will often recognize circumstantiality on the basis of needing to interrupt the speaker in order to complete the process of history taking within an allotted time. When not called circumstantial, these people are often referred to as \"long-winded.\" Occasional instances of circumstantiality. Frequent instances of circumstantiality. At least half of subject\\'s speech is circumstantial. Most of the subject\\'s speech is circumstantial.', 'Pressure of Speech - An increase in the amount of spontaneous speech as compared to what is considered ordinary or socially customary. The subject talks rapidly and is difficult to interrupt. Some sentences may be left uncompleted because of eagerness to get on to a new idea. Simple questions which could be answered in only a few words or sentences are answered at great length so that the answer takes minutes rather than seconds and indeed may not stop at all if the speaker is not interrupted. Even when interrupted, the speaker often continues to talk. Speech tends to be loud and emphatic. Sometimes speakers with severe pressure will talk without any social stimulation and talk even though no one is listening. When subjects are receiving phenothiazines or lithium, their speech is often slowed down by medication, and then it can be judged only on the basis of amount, volume, and social appropriateness. If a quantitative measure is applied to the rate of speech, then a rate greater than 150 words per minute is usually considered rapid or pressured. This disorder may be accompanied by derailment, tangentiality, or incoherence, but it is distinct from them. Slight pressure of speech; some slight increase in amount, speed, or loudness of speech. Usually takes several minutes to answer simple questions, may talk when no one is listening, and/or speaks loudly and rapidly. Frequently talks as much as three minutes to answer simple questions; sometimes begins talking without social stimulation; difficult to interrupt. Subject talks almost continually, cannot be interrupted at all, and/or may shout to drown out the speech of others.', \"Distractible Speech - During the course of a discussion or interview, the subject stops talking in the middle of a sentence or idea and changes the subject in response to a nearby stimulus, such as an object on a desk, the interviewer's clothing or appearance, etc. Is distracted once during an interview. Is distracted from two to four times during an interview. Is distracted from five to ten times during an interview. Is distracted more than ten times during an interview.\", 'Clanging - A pattern of speech in which sounds rather than meaningful relationships apear to govern word choice, so that the intelligibility of the speech is impaired and redundant words are introduced. In addition to rhyming relationships, this pattern of speech may also include punning associations, so that a word similar in sound brings in a new thought. Occurs once during an interview. Occurs from two to four times during an interview. Occurs five to ten times during an interview. Occurs more than ten times, or so frequently that the interview is incomprehensible.', 'Global Rating of Positive Formal Thought Disorder - In making this rating, the interviewer should consider the type of abnormality, the degree to which it affects the subject\\'s ability to communicate, the frequency with which abnormal speech occurs, and its degree of severity. Positive formal thought disorder is fluent speech that tends to communicate poorly for a variety of reasons. The subject tends to skip from topic to topic without warning, to be distracted by events in the nearby environment, to join words together because they are semantically or phonologically alike even though they make no sense, or to ignore the question asked and ask another. This type of speech may be rapid, and it frequently seems quite disjointed. It has sometimes been referred to as \"loose associations.\" Unlike alogia (negative formal thought disorder), a wealth of detail is provided, and the flow of speech tends to have an energetic, rather than an apathetic, quality to it. Occasional instances of disorder; subject\\'s speech is understandable. Frequent instances of disorder; subject is sometimes hard to understand. Subject is often difficult to understand. Subject is incomprehensible.', 'Delusions - Beliefs which are unfounded, unrealistic and idiosyncratic. Presence of one or two delusions which are vague, uncrystallised and not tenaciously held. Delusions do not interfere with thinking, social relations or behaviour. Presence of either a kaleidoscopic array of poorly formed, unstable delusions or a few well-formed delusions that occasionally interfere with thinking, social relations or behaviour. Presence of numerous well-formed delusions that are tenaciously held and occasionally interfere with thinking, social relations and behaviour. Presence of a stable set of delusions which are crystallised, possibly systematised, tenaciously held and clearly interfere with thinking, social relations and behaviour. Presence of a stable set of delusions which are either highly systematised or very numerous, and which dominate major facets of the patient’s life. This frequently results in inappropriate and irresponsible action, which may even jeopardise the safety of the patient or others.', 'Conceptual disorganisation - Disorganised process of thinking characterised by disruption of goal-directed sequencing, e.g. circumstantiality, loose associations, tangentiality, gross illogicality or thought block. Thinking is circumstantial, tangential or paralogical. There is some difficulty in directing thoughts towards a goal, and some loosening of associations may be evidenced under pressure. Able to focus thoughts when communications are brief and structured, but becomes loose or irrelevant when dealing with more complex communications or when under minimal pressure. Generally has difficulty in organising thoughts, as evidenced by frequent irrelevancies, disconnectedness or loosening of associations even when not under pressure. Thinking is seriously derailed and internally inconsistent, resulting in gross irrelevancies and disruption of thought processes, which occur almost constantly. Thoughts are disrupted to the point where the patient is incoherent. There is marked loosening of associations, which result in total failure of communication, e.g. “word salad” or mutism.', 'Hallucinatory behaviour - Verbal report or behaviour indicating perceptions which are not generated by external stimuli. These may occur in the auditory, visual, olfactory or somatic realms. One or two clearly formed but infrequent hallucinations, or else a number of vague abnormal perceptions which do not result in distortions of thinking or behaviour. Hallucinations occur frequently but not continuously, and the patient’s thinking and behaviour are only affected to a minor extent. Hallucinations occur frequently, may involve more than one sensory modality, and tend to distort thinking and/or disrupt behaviour. Patient may have a delusional interpretation of these experiences and respond to them emotionally and, on occasion, verbally as well. Hallucinations are present almost continuously, causing major disruption of thinking and behaviour. Patient treats these as real perceptions, and functioning is impeded by frequent emotional and verbal responses to them. Patient is almost totally preoccupied with hallucinations, which virtually dominate thinking and behaviour. Hallucinations are provided a rigid delusional interpretation and provoke verbal and behavioural responses, including obedience to command hallucinations.', 'Excitement - Hyperactivity as reflected in accelerated motor behaviour, heightened responsivity to stimuli, hypervigilance or excessive mood lability. Tends to be slightly agitated, hypervigilant or mildly overaroused throughout the interview, but without distinct episodes of excitement or marked mood lability. Speech may be slightly pressured. Agitation or overarousal is clearly evident throughout the interview, affecting speech and general mobility, or episodic outbursts occur sporadically. Significant hyperactivity or frequent outbursts of motor activity are observed, making it difficult for the patient to sit still for longer than several minutes at any given time. Marked excitement dominates the interview, delimits attention, and to some extent affects personal functions such as eating or sleeping. Marked excitement seriously interferes in eating and sleeping and makes interpersonal interactions virtually impossible. Acceleration of speech and motor activity may result in incoherence and exhaustion.', 'Grandiosity - Exaggerated self-opinion and unrealistic convictions of superiority, including delusions of extraordinary abilities, wealth, knowledge, fame, power and moral righteousness. Some expansiveness or boastfulness is evident, but without clear-cut grandiose delusions. Feels distinctly and unrealistically superior to others. Some poorly formed delusions about special status or abilities may be present but are not acted upon. Clear-cut delusions concerning remarkable abilities, status or power are expressed and influence attitude but not behaviour. Clear-cut delusions of remarkable superiority involving more than one parameter (wealth, knowledge, fame, etc.) are expressed, notably influence interactions and may be acted upon. Thinking, interactions and behaviour are dominated by multiple delusions of amazing ability, wealth, knowledge, fame, power and/or moral stature, which may take on a bizarre quality.', 'Suspiciousness/persecution - Unrealistic or exaggerated ideas of persecution, as reflected in guardedness, ad distrustful attitude, suspicious hypervigilance or frank delusions that others mean harm. Presents a guarded or even openly distrustful attitude, but thoughts, interactions and behaviour are minimally affected. Distrustfulness is clearly evident and intrudes on the interview and/or behaviour, but there is no evidence of persecutory delusions. Alternatively, there may be indication of loosely formed persecutory delusions, but these do not seem to affect the patient’s attitude or interpersonal relations. Patient shows marked distrustfulness, leading to major disruption of interpersonal relations, or else there are clear-cut persecutory delusions that have limited impact on interpersonal relations and behaviour. Clear-cut pervasive delusions of persecution which may be systematised and significantly interfere in interpersonal relations. A network of systematised persecutory delusions dominates the patient’s thinking, social relations and behaviour.', 'Hostility - Verbal and nonverbal expressions of anger and resentment, including sarcasm, passive-aggressive behaviour, verbal abuse and assualtiveness. Indirect or restrained communication of anger, such as sarcasm, disrespect, hostile expressions and occasional irritability. Presents an overtly hostile attitude, showing frequent irritability and direct expression of anger or resentment. Patient is highly irritable and occasionally verbally abusive or threatening. Uncooperativeness and verbal abuse or threats notably influence the interview and seriously impact upon social relations. Patient may be violent and destructive but is not physically assaultive towards others. Marked anger results in extreme uncooperativeness, precluding other interactions, or in episode(s) of physical assault towards others.', 'Blunted affect - Diminished emotional responsiveness as characterised by a reduction in facial expression, modulation of feelings and communicative gestures. Changes in facial expression and communicative gestures seem to be stilted, forced, artificial or lacking in modulation. Reduced range of facial expression and few expressive gestures result in a dull appearance. Affect is generally ‘flat’ with only occasional changes in facial expression and a paucity of communicative gestures. Marked flatness and deficiency of emotions exhibited most of the time. There may be unmodulated extreme affective discharges, such as excitement, rage or inappropriate uncontrolled laughter. Changes in facial expression and evidence of communicative gestures are virtually absent. Patient seems constantly to show a barren or ‘wooden’ expression.', 'Emotional withdrawal - Lack of interest in, involvement with, and affective commitment to life’s events. Usually lack initiative and occasionally may show deficient interest in surrounding events. Patient is generally distanced emotionally from the milieu and its challenges but, with encouragement, can be engaged. Patient is clearly detached emotionally from persons and events in the milieu, resisting all efforts at engagement. Patient appears distant, docile and purposeless but can be involved in communication at least briefly and tends to personal needs, sometimes with assistance. Marked deficiency of interest and emotional commitment results in limited conversation with others and frequent neglect of personal functions, for which the patient requires supervision. Patient is almost totally withdrawn, uncommunicative and neglectful of personal needs as a result of profound lack of interest and emotional commitment.', 'Poor rapport - Lack of interpersonal empathy, openness in conversation and sense of closeness, interest or involvement with the interviewer. This is evidenced by interpersonal distancing and reduced verbal and nonverbal communication. Conversation is characterised by a stilted, strained or artificial tone. It may lack emotional depth or tend to remain on an impersonal, intellectual plane. Patient typically is aloof, with interpersonal distance quite evident. Patient may answer questions mechanically, act bored, or express disinterest. Disinvolvement is obvious and clearly impedes the productivity of the interview. Patient may tend to avoid eye or face contact. Patient is highly indifferent, with marked interpersonal distance. Answers are perfunctory, and there is little nonverbal evidence of involvement. Eye and face contact are frequently avoided. Patient is totally uninvolved with the interviewer. Patient appears to be completely indifferent and consistently avoids verbal and nonverbal interactions during the interview.', 'Passive/apathetic social withdrawal - Diminished interest and initiative in social interactions due to passivity, apathy, anergy or avolition. This leads to reduced interpersonal involvements and neglect of activities of daily living. Shows occasional interest in social activities but poor initiative. Usually engages with others only when approached first by them. Passively goes along with most social activities but in a disinterested or mechanical way. Tends to recede into the background. Passively participates in only a minority of activities and shows virtually no interest or initiative. Generally spends little time with others. Tends to be apathetic and isolated, participating very rarely in social activities and occasionally neglecting personal needs. Has very few spontaneous social contacts. Profoundly apathetic, socially isolated and personally neglectful.', 'Difficulty in abstract thinking - Impairment in the use of the abstract-symbolic mode of thinking, as evidenced by difficulty in classification, forming generalizations and proceeding beyond concrete or egocentric thinking in problem-solving tasks. Tends to give literal or personalised interpretations to the more difficult proverbs and may have some problems with concepts that are fairly abstract or remotely related. Often utilises a concrete mode. Has difficulty with most proverbs and some categories. Tends to be distracted by functional aspects and salient features. Deals primarily in a concrete mode, exhibiting difficulty with most proverbs and many categories. Unable to grasp the abstract meaning of any proverbs or figurative expressions and can formulate classifications for only the most simple of similarities. Thinking is either vacuous or locked into functional aspects, salient features and idiosyncratic interpretations. Can use only concrete modes of thinking. Shows no comprehension of proverbs, common metaphors or similes, and simple categories. Even salient and functional attributes do not serve as a basis for classification. This rating may apply to those who cannot interact even minimally with the examiner due to marked cognitive impairment.', 'Lack of spontaneity and flow of conversation - Reduction in the normal flow of communication associated with apathy, avolition, defensiveness or cognitive deficit. This is manifested by diminished fluidity and productivity of the verbal interactional process. Conversation shows little initiative. Patient’s answers tend to be brief and unembellished, requiring direct and leading questions by the interviewer. Conversation lacks free flow and appears uneven or halting. Leading questions are frequently needed to elicit adequate responses and proceed with conversation. Patient shows a marked lack of spontaneity and openness, replying to the interviewer’s questions with only one or two brief sentences. Patient’s responses are limited mainly to a few words or short phrases intended to avoid or curtail communication. (e.g. “I don’t know”, “I’m not at liberty to say”). Conversation is seriously impaired as a result and the interview is highly unproductive. Verbal output is restricted to, at most, an occasional utterance, making conversation not possible.', 'Stereotyped thinking - Decreased fluidity, spontaneity and flexibility of thinking, as evidenced in rigid, repetitious or barren thought content. Some rigidity shown in attitude or beliefs. Patient may refuse to consider alternative positions or have difficulty in shifting from one idea to another. Conversation revolves around a recurrent theme, resulting in difficulty in shifting to a new topic. Thinking is rigid and repetitious to the point that, despite the interviewer’s efforts, conversation is limited to only two or three dominating topics. Uncontrolled repetition of demands, statements, ideas or questions which severely impairs conversation. Thinking, behaviour and conversation are dominated by constant repetition of fixed ideas or limited phrases, leading to gross rigidity, inappropriateness and restrictiveness of patient’s communication.', 'Somatic concern - Physical complaints or beliefs about bodily illness or malfunctions. This may range from a vague sense of ill being to clear-cut delusions of catastrophic physical disease. Distinctly concerned about health or bodily malfunction, but there is no delusional conviction and overconcern can be allayed by reassurance. Complains about poor health or bodily malfunction, but there is no delusional conviction, and overconcern can be allayed by reassurance. Patient expresses numerous or frequent complaints about physical illness or bodily malfunction, or else patient reveals one or two clear-cut delusions involving these themes but is not preoccupied by them. Patient is preoccupied by one or a few clear-cut delusions about physical disease or organic malfunction, but affect is not fully immersed in these themes, and thoughts can be diverted by the interviewer with some effort. Numerous and frequently reported somatic delusions, or only a few somatic delusions of a catastrophic nature, which totally dominate the patient’s affect or thinking.', 'Anxiety - Subjective experience of nervousness, worry, apprehension or restlessness, ranging from excessive concern about the present or future to feelings of panic. Expresses some worry, overconcern or subjective restlessness, but no somatic and behavioural consequences are reported or evidenced. Patient reports distinct symptoms of nervousness, which are reflected in mild physical manifestations such as fine hand tremor and excessive perspiration. Patient reports serious problems of anxiety which have significant physical and behavioural consequences, such as marked tension, poor concentration, palpitations or impaired sleep. Subjective state of almost constant fear associated with phobias, marked restlessness or numerous somatic manifestations. Patient’s life is seriously disrupted by anxiety, which is present almost constantly and at times reaches panic proportion or is manifested in actual panic attacks.', 'Guilt feelings - Sense of remorse or self-blame for real or imagined misdeeds in the past. Questioning elicits a vague sense of guilt or self-blame for a minor incident, but the patient clearly is not overly concerned. Patient expresses distinct concern over his responsibility for a real incident in his life but is not pre-occupied with it and attitude and behaviour are essentially unaffected. Patient expresses a strong sense of guilt associated with self-deprecation or the belief that he deserves punishment. The guilt feelings may have a delusional basis, may be volunteered spontaneously, may be a source of preoccupation and/or depressed mood, and cannot be allayed readily by the interviewer. Strong ideas of guilt take on a delusional quality and lead to an attitude of hopelessness or worthlessness. The patient believes he should receive harsh sanctions as such punishment. Patient’s life is dominated by unshakable delusions of guilt, for which he feels deserving of drastic punishment, such as life imprisonment, torture, or death. There may be associated suicidal thoughts or attribution of others’ problems to one’s own past misdeeds.', 'Tension - Overt physical manifestations of fear, anxiety, and agitation, such as stiffness, tremor, profuse sweating and restlessness. Posture and movements indicate slight apprehensiveness, such as minor rigidity, occasional restlessness, shifting of position, or fine rapid hand tremor. A clearly nervous appearance emerges from various manifestations, such as fidgety behaviour, obvious hand tremor, excessive perspiration, or nervous mannerisms. Pronounced tension is evidenced by numerous manifestations, such as nervous shaking, profuse sweating and restlessness, but can conduct in the interview is not significantly affected. Pronounced tension to the point that interpersonal interactions are disrupted. The patient, for example, may be constantly fidgeting, unable to sit still for long, or show hyperventilation. Marked tension is manifested by signs of panic or gross motor acceleration, such as rapid restless pacing and inability to remain seated for longer than a minute, which makes sustained conversation not possible.', 'Mannerisms and posturing - Unnatural movements or posture as characterised be an awkward, stilted, disorganised, or bizarre appearance. Slight awkwardness in movements or minor rigidity of posture. Movements are notably awkward or disjointed, or an unnatural posture is maintained for brief periods. Occasional bizarre rituals or contorted posture are observed, or an abnormal position is sustained for extended periods. Frequent repetition of bizarre rituals, mannerisms or stereotyped movements, or a contorted posture is sustained for extended periods. Functioning is seriously impaired by virtually constant involvement in ritualistic, manneristic, or stereotyped movements or by an unnatural fixed posture which is sustained most of the time.', 'Depression - Feelings of sadness, discouragement, helplessness and pessimism. Expresses some sadness of discouragement only on questioning, but there is no evidence of depression in general attitude or demeanor. Distinct feelings of sadness or hopelessness, which may be spontaneously divulged, but depressed mood has no major impact on behaviour or social functioning and the patient usually can be cheered up. Distinctly depressed mood is associated with obvious sadness, pessimism, loss of social interest, psychomotor retardation and some interference in appetite and sleep. The patient cannot be easily cheered up. Markedly depressed mood is associated with sustained feelings of misery, occasional crying, hopelessness and worthlessness. In addition, there is major interference in appetite and or sleep as well as in normal motor and social functions, with possible signs of self-neglect. Depressive feelings seriously interfere in most major functions. The manifestations include frequent crying, pronounced somatic symptoms, impaired concentration, psychomotor retardation, social disinterest, self neglect, possible depressive or nihilistic delusions and/or possible suicidal thoughts or action.', 'Motor retardation - Reduction in motor activity as reflected in slowing or lessening of movements and speech, diminished responsiveness of stimuli, and reduced body tone. Slight but noticeable diminution in rate of movements and speech. Patient may be somewhat underproductive in conversation and gestures. Patient is clearly slow in movements, and speech may be characterised by poor productivity including long response latency, extended pauses or slow pace. A marked reduction in motor activity renders communication highly unproductive or delimits functioning in social and occupational situations. Patient can usually be found sitting or lying down. Movements are extremely slow, resulting in a minimum of activity and speech. Essentially the day is spent sitting idly or lying down. Patient is almost completely immobile and virtually unresponsive to external stimuli.', 'Uncooperativeness - Active refusal to comply with the will of significant others, including the interviewer, hospital staff or family, which may be associated with distrust, defensiveness, stubbornness, negativism, rejection of authority, hostility or belligerence. Complies with an attitude of resentment, impatience, or sarcasm. May inoffensively object to sensitive probing during the interview. Occasional outright refusal to comply with normal social demands, such as making own bed, attending scheduled programmes, etc. The patient may project a hostile, defensive or negative attitude but usually can be worked with. Patient frequently is incompliant with the demands of his milieu and may be characterised by other as an “outcast” or having “a serious attitude problem”. Uncooperativeness is reflected in obvious defensiveness or irritability with the interviewer and possible unwillingness to address many questions. Patient is highly uncooperative, negativistic and possibly also belligerent. Refuses to comply with the most social demands and may be unwilling to initiate or conclude the full interview. Active resistance seriously impact on virtually all major areas of functioning. Patient may refuse to join in any social activities, tend to personal hygiene, converse with family or staff and participate even briefly in an interview.', 'Unusual thought content - Thinking characterised by strange, fantastic or bizarre ideas, ranging from those which are remote or atypical to those which are distorted, illogical and patently absurd. Thought content is somewhat peculiar, or idiosyncratic, or familiar ideas are framed in an odd context. Ideas are frequently distorted and occasionally seem quite bizarre. Patient expresses many strange and fantastic thoughts, (e.g. Being the adopted son of a king, being an escapee from death row), or some which are patently absurd (e.g. Having hundreds of children, receiving radio messages from outer space from a tooth filling). Patient expresses many illogical or absurd ideas or some which have a distinctly bizarre quality (e.g. having three heads, being a visitor from another planet). Thinking is replete with absurd, bizarre and grotesque ideas.', 'Disorientation - Lack of awareness of one’s relationship to the milieu, including persons, place and time, which may be due to confusion or withdrawal. General orientation is adequate but there is some difficulty with specifics. For example, patient knows his location but not the street address, knows hospital staff names but not their functions, knows the month but confuses the day of the week with an adjacent day, or errs in the date by more than two days. There may be narrowing of interest evidenced by familiarity with the immediate but not extended milieu, such as ability to identify staff but not the mayor, governor, or president. Only partial success in recognising persons, places and time. For example, patient knows he is in a hospital but not its name, knows the name of the city but not the borough or district, knows the name of his primary therapist but not many other direct care workers, knows the year or season but not sure of the month. Considerable failure in recognising persons, place and time. Patient has only a vague notion of where he is and seems unfamiliar with most people in his milieu. He may identify the year correctly or nearly but not know the current month, day of week or even the season. Marked failure in recognising persons, place and time. For example, patient has no knowledge of his whereabouts, confuses the date by more than one year, can name only one or two individuals in his current life. Patient appears completely disorientated with regard to persons, place and time. There is gross confusion or total ignorance about one’s location, the current year and even the most familiar people, such as parents, spouse, friends and primary therapist.', 'Poor attention - Failure in focused alertness manifested by poor concentration, distractibility from internal and external stimuli, and difficulty in harnessing, sustaining or shifting focus to new stimuli. Limited concentration evidenced by occasional vulnerability to distraction and faltering attention toward the end of the interview. Conversation is affected by the tendency to be easily distracted, difficulty in long sustaining concentration on a given topic, or problems in shifting attention to new topics. Conversation is seriously hampered by poor concentration, distractibility, and difficulty in shifting focus appropriately. Patient’s attention can be harnessed for only brief moments or with great effort, due to marked distraction by internal or external stimuli. Attention is so disrupted that even brief conversation is not possible.', 'Lack of judgement and insight - Impaired awareness or understanding of one’s own psychiatric condition and life situation. This is evidenced by failure to recognise past or present psychiatric illness or symptoms, denial of need for psychiatric hospitalisation or treatment, decisions characterised by poor anticipation or consequences, and unrealistic short-term and long-range planning. Recognises having a psychiatric disorder but clearly underestimates its seriousness, the implications for treatment, or the importance of taking measures to avoid relapse. Future planning may be poorly conceived. Patient shows only a vague or shallow recognition of illness. There may be fluctuations in acknowledgement of being ill or little awareness of major symptoms which are present, such as delusions, disorganised thinking, suspiciousness and social withdrawal. The patient may rationalise the need for treatment in terms of its relieving lesser symptoms, such as anxiety, tension and sleep difficulty. Acknowledges past but not present psychiatric disorder. If challenged, the patient may concede the presence of some unrelated or insignificant symptoms, which tend to be explained away by gross misinterpretation or delusional thinking. The need for psychiatric treatment similarly goes unrecognised. Patient denies ever having had a psychiatric disorder. He disavows the presence of any psychiatric symptoms in the past or present and, though compliant, denies the need for treatment and hospitalisation. Emphatic denial of past and present psychiatric illness. Current hospitalisation and treatment are given a delusional interpretation (e.g. as punishment for misdeeds, as persecution by tormentors, etc.), and the patient thus refuse to cooperate with therapists, medication or other aspects of treatment.', 'Disturbance of volition - Disturbance in the wilful initiation, sustenance and control of one’s thoughts, behaviour, movements and speech. There is evidence of some indecisiveness in conversation and thinking, which may impede verbal and cognitive processes to a minor extent. Patient is often ambivalent and shows clear difficulty in reaching decisions. Conversation may be marred by alteration in thinking, and in consequence, verbal and cognitive functioning are clearly impaired. Disturbance of volition interferes in thinking as well as behaviour. Patient shows pronounced indecision that impedes the initiation and continuation of social and motor activities, and which also may be evidence in halting speech. Disturbance of volition interferes in the execution of simple automatic motor functions, such as dressing or grooming, and markedly affects speech. Almost complete failure of volition is manifested by gross inhibition of movement and speech resulting in immobility and/or mutism.', 'Poor impulse control - Disordered regulation and control of action on inner urges, resulting in sudden, unmodulated, arbitrary or misdirected discharge of tension and emotions without concern about consequences. Patient tends to be easily angered and frustrated when facing stress or denied gratification but rarely acts on impulse. Patient gets angered and verbally abusive with minimal provocation. May be occasionally threatening, destructive, or have one or two episodes involving physical confrontation or a minor brawl. Patient exhibits repeated impulsive episodes involving verbal abuse, destruction of property, or physical threats. There may be one or two episodes involving serious assault, for which the patient requires isolation, physical restraint, or p.r.n. sedation. Patient frequently is impulsive aggressive, threatening, demanding, and destructive, without any apparent consideration of consequences. Shows assualtive behaviour and may also be sexually offensive and possibly respond behaviourally to hallucinatory commands. Patient exhibits homicidal, sexual assaults, repeated brutality, or self-destructive behaviour. Requires constant direct supervision or external constraints because of inability to control dangerous impulses.', 'Preoccupation - Absorption with internally generated thoughts and feelings and with autistic experiences to the detriment of reality orientation and adaptive behaviour. Excessive involvement with personal needs or problems, such that conversation veers back to egocentric themes and there is diminished concerned exhibited toward others. Patient occasionally appears self-absorbed, as if daydreaming or involved with internal experiences, which interferes with communication to a minor extent. Patient often appears to be engaged in autistic experiences, as evidenced by behaviours that significantly intrude on social and communicational functions, such as the presence of a vacant stare, muttering or talking to oneself, or involvement with stereotyped motor patterns. Marked preoccupation with autistic experiences, which seriously delimits concentration, ability to converse, and orientation to the milieu. The patient frequently may be observed smiling, laughing, muttering, talking, or shouting to himself. Gross absorption with autistic experiences, which profoundly affects all major realms of behaviour. The patient constantly may be responding verbally or behaviourally to hallucinations and show little awareness of other people or the external milieu.', 'Active social avoidance - Diminished social involvement associated with unwarranted fear, hostility, or distrust. Patient seems ill at ease in the presence of others of others and prefers to spend time alone, although he participates in social functions when required. Patient begrudgingly attends all or most social activities but may needs to be persuaded or may terminate prematurely on account of anxiety, suspiciousness, or hostility. Patient fearfully or angrily keeps away from many social interactions despite others’ efforts to engage him. Tends to spend unstructured time alone. Patient participates in very few social activities because of fear, hostility, or distrust. When approached, the patient shows a strong tendency to break off interactions, and generally he tends to isolate himself from others. Patient cannot be engaged in social activities because of pronounced fears, hostility, or persecutory delusions. To the extent possible, he avoids all interactions and remains isolated from others.', 'Delusions - Delusions are fixed beliefs that are not amenable to change in light of conflicting evidence. Their content may include a variety of themes (e.g., persecutory, referential, somatic, religious, grandiose). Persecutory delusions (i.e., belief that one is going to be harmed, harassed, and so forth by an individual, organization, or other group) are most common. Referential delusions (i.e., belief that certain gestures, comments, environmental cues, and so forth are directed at oneself) are also common. Grandiose delusions (i.e., when an individual believes that he or she has exceptional abilities, wealth, or fame) and erotomanic delusions (i.e., when an individual believes falsely that another person is in love with him or her) are also seen. Nihilistic delusions involve the conviction that a major catastrophe will occur, and somatic delusions focus on preoccupations regarding health and organ function. Delusions are deemed bizarre if they are clearly implausible and not understandable to same-culture peers and do not derive from ordinary life experiences. An example of a bizarre delusion is the belief that an outside force has removed his or her internal organs and replaced them with someone else’s organs without leaving any wounds or scars. An example of a nonbizarre delusion is the belief that one is under surveillance by the police, despite a lack of convincing evidence. Delusions that express a loss of control over mind or body are generally considered to be bizarre; these include the belief that one’s thoughts have been “removed” by some outside force (thought withdrawal), that alien thoughts have been put into one’s mind (thought insertion), or that one’s body or actions are being acted on or manipulated by some outside force (delusions of control). The distinction between a delusion and a strongly held idea is sometimes difficult to make and depends in part on the degree of conviction with which the belief is held despite clear or reasonable contradictory evidence regarding its veracity', 'Hallucinations - Hallucinations are perception-like experiences that occur without an external stimulus. They are vivid and clear, with the full force and impact of normal perceptions, and not under voluntary control. They may occur in any sensory modality, but auditory hallucinations are the most common in schizophrenia and related disorders. Auditory hallucinations are usually experienced as voices, whether familiar or unfamiliar, that are perceived as distinct from the individual’s own thoughts. The hallucinations must occur in the context of a clear sensorium; those that occur while falling asleep (hypnagogic) or waking up (hypnopompic) are considered to be within the range of normal experience. Hallucinations may be a normal part of religious experience in certain cultural contexts.', 'Disorganized speech (e.g., frequent derailment or incoherence) - Disorganized thinking (formal thought disorder) is typically inferred from the individual’s speech. The individual may switch from one topic to another (derailment or loose associations). Answers to questions may be obliquely related or completely unrelated (tangentiality). Rarely, speech may be so severely disorganized that it is nearly incomprehensible and resembles receptive aphasia in its linguistic disorganization (incoherence or “word salad”). Because mildly disorganized speech is common and nonspecific, the symptom must be severe enough to substantially impair effective communication. The severity of the impairment may be difficult to evaluate if the person making the diagnosis comes from a different linguistic background than that of the person being examined. Less severe disorganized thinking or speech may occur during the prodromal and residual periods of schizophrenia.', 'Grossly disorganized or catatonic behavior - Grossly disorganized or abnormal motor behavior may manifest itself in a variety of ways, ranging from childlike “silliness” to unpredictable agitation. Problems may be noted in any form of goal-directed behavior, leading to difficulties in performing activities of daily living. Catatonic behavior is a marked decrease in reactivity to the environment. This ranges from resistance to instructions (negativism); to maintaining a rigid, inappropriate or bizarre posture; to a complete lack of verbal and motor responses (mutism and stupor). It can also include purposeless and excessive motor activity without obvious cause (catatonic excitement). Other features are repeated stereotyped movements, staring, grimacing, mutism, and the echoing of speech. Although catatonia has historically been associated with schizophrenia, catatonic symptoms are nonspecific and may occur in other mental disorders (e.g., bipolar or depressive disorders with catatonia) and in medical conditions (catatonic disorder due to another medical condition).', 'Negative symptoms (i.e., diminished emotional expression or avolition) - Negative symptoms account for a substantial portion of the morbidity associated with schizophrenia but are less prominent in other psychotic disorders. Two negative symptoms are particularly prominent in schizophrenia - diminished emotional expression and avolition. Diminished emotional expression includes reductions in the expression of emotions in the face, eye contact, intonation of speech (prosody), and movements of the hand, head, and face that normally give an emotional emphasis to speech. Avolition is a decrease in motivated self-initiated purposeful activities. The individual may sit for long periods of time and show little interest in participating in work or social activities. Other negative symptoms include alogia, anhedonia, and asociality. Alogia is manifested by diminished speech output. Anhedonia is the decreased ability to experience pleasure from positive stimuli or a degradation in the recollection of pleasure previously experienced. Asociality refers to the apparent lack of interest in social interactions and may be associated with avolition, but it can also be a manifestation of limited opportunities for social interactions.', \"Persistent delusions (e.g., grandiose delusions, delusions of reference, persecutory delusions). Delusion - A belief that is demonstrably untrue or not shared by others, usually based on incorrect inference about external reality. The belief is firmly held with conviction and is not, or is only briefly, susceptible to modification by experience or evidence that contradicts it. The belief is not ordinarily accepted by other members or the person's culture or subculture (i.e., it is not an article of religious faith). Bizarre delusion - A delusion that involves a phenomenon that would be regarded as physically impossible within the person's cultural context.Delusion of being controlled - A delusion that involves an external force or person controlling one's feelings, impulses, thoughts, or behaviour. Delusion of guilt - A delusion involving exaggerated or inappropriate responsibility, need for punishment or retribution, or disproportionate consequences of one’s actions, such as that a minor error in the past will lead to disaster, that the person has committed a sin or horrible crime and should be punished severely, or that the person is responsible for a horrible outcome with which there can be no possible connection. Delusion of reference - A delusion that events, objects, or other people in the person's immediate environment have a particular and unusual personal significance, usually of a negative or pejorative nature. Erotomanic delusion - A delusion that another person, usually of higher status, is in love with the individual. Grandiose delusion - A delusion of inflated worth, power, knowledge, identity, or special relationship to a deity or famous person. Persecutory delusion - A delusion in which the central theme is that one (or someone to whom one is close) is being attacked, mocked, harassed, cheated, conspired against, or persecuted. Religious delusion - A delusion involving religious or spiritual themes or subject matter that other members of the person's religious group do not accept as possible. Somatic delusion - A delusion involving the functioning or appearance of one’s body, including of having a serious disease. Nihilistic delusion - A delusion that the self, part of the self, part of the body, other persons, or the whole world has ceased to exist. Misidentification delusion - A delusion that people in one’s environment, which may include family members and loved ones, are imposters or actors or are otherwise not who they seem to be. Delusion of impoverishment - A delusional conviction that one is currently destitute or soon will be, or that one does not have the necessary financial resources to live on, in spite of evidence to the contrary.\", \"Persistent hallucinations (most commonly auditory, although they may be in any sensory modality). Hallucinations - Sensory perceptions of any modality occurring in the absence of the appropriate (external) stimulus. The person may or may not have insight into the unreal nature of the perception. Auditory hallucinations - Hallucinations involving the perception of sound, most frequently of voices but sometimes of clicks or other noises, that are not restricted to the period of awakening or the onset of sleep. Gustatory hallucinations - Hallucinations of taste in the absence of an actual external stimulus. Hypnopompic hallucinations - Hallucinations that occur during the period of awakening, most commonly of the visual, tactile or auditory modality. Hypnagogic hallucinations - Hallucinations that occur at the onset of sleep, most commonly of the visual, tactile or auditory modality. Olfactory hallucinations - Hallucinations involving the perception of odour (e.g., of burning rubber, decaying fish, orange peel) in the absence of an actual external stimulus. Somatic hallucinations - Hallucinations involving the perception of an unusual physical state or event within the body, such as an electrical impulse running down one's arms or an object inside one's chest. Tactile hallucinations - Hallucinations involving the perception of being touched (e.g., feeling like bugs are crawling on the skin, pins being stuck into one's finger) that are not restricted to the period of awakening or the onset of sleep. Visual hallucinations - Hallucinations involving sight in the absence of an actual visual stimulus that are not restricted to the period of awakening or the onset of sleep. Visual hallucinations may involve formed images, such as of people, or of unformed images, such as flashes of light. Visual hallucinations must be distinguished from illusions, which are visual misperceptions of real external stimuli.\", 'Disorganized thinking (formal thought disorder) (e.g., tangentiality and loose associations, irrelevant speech, neologisms). When severe, the person’s speech may be so incoherent as to be incomprehensible (‘word salad’). Symptoms and signs of thought disorder - Disturbances in the associative thought process typically manifest in speech or writing that range from circumstantiality to incoherence. These may be indicative of Schizophrenia and other primary psychotic disorders but can also occur in other mental disorders (e.g., Delirium). Circumstantiality - A relatively mild disturbance in the associative thought process typically manifest in speech or writing characterised by delay in getting to the point because of the interpolation of unnecessary details and irrelevant parenthetical remarks. Tangentiality - A disturbance in the associative thought process typically manifest in speech in which the person tends to digress readily from the topic under discussion to other topics through associations without ever returning to the original topic. Disorganised thinking - A disturbance in the associative thought process typically manifested in speech in which the person shifts suddenly from one topic to another that is unrelated or minimally related to the first. The individual gives no indication of being aware of the disconnectedness or illogicality of their thinking. Incoherence - Speech or thinking that is so disorganised that it is essentially incomprehensible to others. Neologisms - The invention of new words that have meaning only to the person using them. May also include the use of existing words in ways that are inconsistent with their common meaning.', \"Experiences of influence, passivity or control (i.e., the experience that one’s feelings, impulses, actions or thoughts are not generated by oneself, are being placed in one’s mind or withdrawn from one’s mind by others, or that one’s thoughts are being broadcast to others). Experiences of influence, passivity, and control - The experience that one's feelings, impulses, thoughts, bodily functions, or behaviour are under the control of another person or other external force instead of under one's own control. These experiences may or may not be accompanied by a delusional belief that provides an explanation for the subjective experience. Thought broadcasting - The experience that one's thoughts are accessible by others so that others know what one is thinking. Thought insertion - The experience that certain thoughts are being placed in one's mind by others. Thought withdrawal - The experience that one's thoughts are being removed   by an outside person or force.\", 'Negative symptoms such as affective flattening, alogia or paucity of speech, avolition, asociality and anhedonia. Avolition - A general lack of drive, or lack of motivation to pursue meaningful goals (e.g., as evidenced by limited participation in work, school, or socializing with others). Poverty of speech - A general lack of the unprompted content and elaboration normally seen in speech that is attributed to poverty of thought. It is one of the negative symptoms of Schizophrenia. Social withdrawal - Retreat from relationships and other social interactions. Anhedonia - Inability to experience pleasure from normally pleasurable activities. Flat affect - Absence or near absence of any sign of affective expression.', \"Grossly disorganized behaviour that impedes goal-directed activity (e.g., behaviour that appears bizarre or purposeless, unpredictable or inappropriate emotional responses that interferes with the ability to organize behaviour). Disorganised behaviour - Behaviour including posture, gait, and other activity that is unpredictable or not goal-directed (e.g., shouting at strangers on the street). Inappropriate affect - Affective expression that is discordant with the content of the person's speech or ideation, or incompatible with the demands of a particular situation.\", 'Psychomotor disturbances such as catatonic restlessness or agitation, posturing, waxy flexibility, negativism, mutism, or stupor. Restlessness - A feeling of being unable to keep still. Stupor - Total or nearly total lack of spontaneous movement and marked decrease in reactivity to environment. Mutism - A lack of verbal output that may be generalised or restricted to specific situations. Negativism - A tendency to oppose or resist suggestions or advice, or to resist stubbornly for no apparent reason. Catatonia - Negativism - opposing or behaving contrary to requests or instructions, which may lead to withdrawal from interaction with others (turning away) or refusal to take food or drink when offered. Stupor - immobility; no or markedly reduced psychomotor activity; minimally responsive to external stimuli. Mutism - no or very little verbal response; speech may be hushed or whispered to the point of being unintelligible. Any of the following - extreme hyperactivity or agitation for no reason with nonpurposeful movements and/or uncontrollable, extreme emotional reactions; impulsivity (sudden engagement in inappropriate behaviour without provocation); combativeness (striking out against others usually in an undirected manner, with or without the potential for injury). Posturing - spontaneous and active maintenance of a posture against gravity; sitting or standing for long periods without reacting. sWaxy flexibility - slight and even resistance to positioning by examiner. (Requires examination.)']\n",
            "['SS11', 'SS12', 'SS13', 'SS14', 'SS15', 'SS16', 'SS17', 'SS18', 'SS19', 'SS20', 'SS21', 'SS22', 'SS23', 'SS24', 'SS25', 'SS26', 'SS27', 'SS28', 'SS29', 'SS30', 'SS31', 'SS32', 'SS33', 'SS34', 'SS35', 'SS36', 'SS37', 'SS38', 'SS39', 'SS40', 'SS41', 'SS42', 'SS43', 'SS44', 'SS45', 'SS46', 'SS47', 'SS48', 'SS49', 'SS50', 'SS51', 'SS52', 'SS53', 'SS54', 'SS55', 'SS56', 'SS57', 'SS58', 'SS59', 'SS60', 'SS61', 'SS62', 'SS63', 'SS64', 'SS65', 'SS66', 'SS67', 'SS68', 'SS69', 'P1', 'P2', 'P3', 'P4', 'P5', 'P6', 'P7', 'N1', 'N2', 'N3', 'N4', 'N5', 'N6', 'N7', 'G1', 'G2', 'G3', 'G4', 'G5', 'G6', 'G7', 'G8', 'G9', 'G10', 'G11', 'G12', 'G13', 'G14', 'G15', 'G16', 'A1', 'A2', 'A3', 'A4', 'A5', 'A', 'B', 'C', 'D', 'E', 'F', 'G']\n",
            "['SANS_SAPS', 'SANS_SAPS', 'SANS_SAPS', 'SANS_SAPS', 'SANS_SAPS', 'SANS_SAPS', 'SANS_SAPS', 'SANS_SAPS', 'SANS_SAPS', 'SANS_SAPS', 'SANS_SAPS', 'SANS_SAPS', 'SANS_SAPS', 'SANS_SAPS', 'SANS_SAPS', 'SANS_SAPS', 'SANS_SAPS', 'SANS_SAPS', 'SANS_SAPS', 'SANS_SAPS', 'SANS_SAPS', 'SANS_SAPS', 'SANS_SAPS', 'SANS_SAPS', 'SANS_SAPS', 'SANS_SAPS', 'SANS_SAPS', 'SANS_SAPS', 'SANS_SAPS', 'SANS_SAPS', 'SANS_SAPS', 'SANS_SAPS', 'SANS_SAPS', 'SANS_SAPS', 'SANS_SAPS', 'SANS_SAPS', 'SANS_SAPS', 'SANS_SAPS', 'SANS_SAPS', 'SANS_SAPS', 'SANS_SAPS', 'SANS_SAPS', 'SANS_SAPS', 'SANS_SAPS', 'SANS_SAPS', 'SANS_SAPS', 'SANS_SAPS', 'SANS_SAPS', 'SANS_SAPS', 'SANS_SAPS', 'SANS_SAPS', 'SANS_SAPS', 'SANS_SAPS', 'SANS_SAPS', 'SANS_SAPS', 'SANS_SAPS', 'SANS_SAPS', 'SANS_SAPS', 'SANS_SAPS', 'PANSS', 'PANSS', 'PANSS', 'PANSS', 'PANSS', 'PANSS', 'PANSS', 'PANSS', 'PANSS', 'PANSS', 'PANSS', 'PANSS', 'PANSS', 'PANSS', 'PANSS', 'PANSS', 'PANSS', 'PANSS', 'PANSS', 'PANSS', 'PANSS', 'PANSS', 'PANSS', 'PANSS', 'PANSS', 'PANSS', 'PANSS', 'PANSS', 'PANSS', 'PANSS', 'DSM-5', 'DSM-5', 'DSM-5', 'DSM-5', 'DSM-5', 'ICD-11', 'ICD-11', 'ICD-11', 'ICD-11', 'ICD-11', 'ICD-11', 'ICD-11']\n",
            "['SS11 Unchanging Facial Expression', 'SS12 Decreased Spontaneous Movements', 'SS13 Paucity of Expressive Gestures', 'SS14 Poor Eye Contact', 'SS15 Affective Nonresponsivity', 'SS16 Lack of Vocal Inflections', 'SS17 Global Rating of Affective Flattening', 'SS18 Inappropriate Affect', 'SS19 Poverty of Speech', 'SS20 Poverty of Content of Speech', 'SS21 Blocking', 'SS22 Increased Latency of Response', 'SS23 Global Rating of Alogia', 'SS24 Grooming and Hygiene', 'SS25 Impersistence at Work or School', 'SS26 Physical Anergia', 'SS27 Global Rating of Avolition/Apathy', 'SS28 Recreational Interests and Activities', 'SS29 Sexual Interest and Activity', 'SS30 Ability to Feel Intimacy and Closeness', 'SS31 Relationships with Friends and Peers', 'SS32 Global Rating of Anhedonia/Asociality', 'SS33 Social Inattentiveness', 'SS34 Inattentiveness During Mental Status Testing', 'SS35 Global Rating of Attention', 'SS36 Auditory Hallucinations', 'SS37 Voices Commenting', 'SS38 Voices Conversing', 'SS39 Somatic or Tactile Hallucinations', 'SS40 Olfactory Hallucinations', 'SS41 Visual Hallucinations', 'SS42 Global Rating of Severity of Hallucinations', 'SS43 Persecutory Delusions', 'SS44 Delusions of Jealousy', 'SS45 Delusions of Sin or Guilt', 'SS46 Grandiose Delusions', 'SS47 Religious Delusions', 'SS48 Somatic Delusions', 'SS49 Ideas and Delusions of Reference', 'SS50 Delusions of Being Controlled', 'SS51 Delusions of Mind Reading', 'SS52 Thought Broadcasting', 'SS53 Thought Insertion', 'SS54 Thought Withdrawal', 'SS55 Global Rating of Severity of Delusions', 'SS56 Clothing and Appearance', 'SS57 Social and Sexual Behavior', 'SS58 Aggressive and Agitated Behavior', 'SS59 Repetitive or Stereotyped Behavior', 'SS60 Global Rating of Severity of Bizarre Behavior', 'SS61 Derailment', 'SS62 Tangentiality', 'SS63 Incoherence', 'SS64 Illogicality', 'SS65 Circumstantiality', 'SS66 Pressure of Speech', 'SS67 Distractible Speech', 'SS68 Clanging', 'SS69 Global Rating of Positive Formal Thought Disorder', 'P1 Delusions', 'P2 Conceptual disorganisation', 'P3 Hallucinatory behaviour', 'P4 Excitement', 'P5 Grandiosity', 'P6 Suspiciousness/persecution', 'P7 Hostility', 'N1 Blunted affect', 'N2 Emotional withdrawl -', 'N3 Poor rapport', 'N4 Passive/apathetic social withdrawl', 'N5 Difficulty in abstract thinking', 'N6 Lack of spontaneity and flow of conversation', 'N7 Stereotyped thinking', 'G1 Somatic concern', 'G2 Anxiety', 'G3 Guilt feelings', 'G4 Tension', 'G5 Mannerisms and posturing', 'G6 Depression', 'G7 Motor retardation', 'G8 Uncooperativeness', 'G9 Unusual thought content', 'G10 Disorientation', 'G11 Poor attention', 'G12 Lack of judgement and insight', 'G13 Disturbance of volition', 'G14 Poor impulse control', 'G15 Preoccupation', 'G16 Active social avoidance', 'A1 Delusions', 'A2 Hallucinations', 'A3 Disorganized thinking', 'A4 Grossly disorganized or catatoic behaviour', 'A5 Negative symptoms', 'A Delusions', 'B Hallucinations', 'C Disorganized thinking', 'D Experiences of influence, passivity or control', 'E Negative symptoms', 'F Grossly disorganized behaviour', 'G Psychomotor disturbances']\n"
          ]
        }
      ]
    },
    {
      "cell_type": "markdown",
      "source": [
        "### Load in data frame with manually coded overlap (0/1)\n"
      ],
      "metadata": {
        "id": "phSHJIaif6g_"
      }
    },
    {
      "cell_type": "code",
      "source": [
        "# Download df with all symptom pairs and similairy column\n",
        "bc_eval_df = pd.read_csv('bc_eval_df.csv')\n",
        "code_item = { codes[i]: items[i] for i in range(len(codes))} #make dict of codes and items\n",
        "bc_eval_df = bc_eval_df.replace(to_replace = code_item) #replace codes with text (items)"
      ],
      "metadata": {
        "id": "seu9auseaJhQ"
      },
      "execution_count": null,
      "outputs": []
    },
    {
      "cell_type": "markdown",
      "source": [
        "### Load in sentence transformer models"
      ],
      "metadata": {
        "id": "_4iMgj-ngD_A"
      }
    },
    {
      "cell_type": "code",
      "source": [
        "# Download sentence transformer models\n",
        "model1 = SentenceTransformer('all-mpnet-base-v1')\n",
        "print(\"Max Sequence Length:\", model1.max_seq_length)\n",
        "\n",
        "model2 = SentenceTransformer('all-distilroberta-v1')\n",
        "print(\"Max Sequence Length:\", model2.max_seq_length)\n",
        "\n",
        "model3 = SentenceTransformer(\"neuml/pubmedbert-base-embeddings\")\n",
        "print(\"Max Sequence Length:\", model3.max_seq_length)\n"
      ],
      "metadata": {
        "id": "HD0xEIEBbfm2"
      },
      "execution_count": null,
      "outputs": []
    },
    {
      "cell_type": "markdown",
      "source": [
        "### Evaluate encodings on manually coded overlap"
      ],
      "metadata": {
        "id": "y5ktgA-PgJNz"
      }
    },
    {
      "cell_type": "code",
      "source": [
        "evalbc = evaluation.BinaryClassificationEvaluator(sentences1 = (list(bc_eval_df[\"item1\"])), sentences2 = (list(bc_eval_df[\"item2\"])), labels = (list(bc_eval_df[\"bc_overlap\"])), name = \"BC_eval\", batch_size = 16, show_progress_bar = True, write_csv = True)\n",
        "print(model1.evaluate(evalbc, output_path= \"/content/drive/MyDrive/Bachelor/\"))\n",
        "print(model2.evaluate(evalbc, output_path= \"/content/drive/MyDrive/Bachelor/\"))\n",
        "print(model3.evaluate(evalbc, output_path= \"/content/drive/MyDrive/Bachelor/\"))"
      ],
      "metadata": {
        "colab": {
          "base_uri": "https://localhost:8080/",
          "height": 165,
          "referenced_widgets": [
            "609066bb2d974964b4e704a380c1a1fb",
            "604d33f889424093b829801745dfad2d",
            "ee1aeb935c344bfa9166872d6773a513",
            "6df45ee41f6e4d05904b2eba6af74f74",
            "ef1fdaf8cc104d258baa0bf2ec010a3f",
            "d929b2f983c44b1ebff6a794a4cbdb27",
            "e11035df44de4d548386b8f8a90651db",
            "b3c7c246160d4bbaa359d63ebc2f9dff",
            "1d543b2764844d7b9c430f132b8fd626",
            "8be3fe453309493bb2dfee32754d229b",
            "13ecb130feab4ee6815d22c39363f739",
            "f963ce2191c64dfd986dd434898a02ce",
            "cb8492b0789d40daa865278a130d951f",
            "ba506b65b57f406f81e3c5f2b9e2adc3",
            "2e0049a189e7455d9a8fbdf2d6b1286b",
            "399987b23a5f4d00b1007d2bb2681d34",
            "738cf3231370460e837c8c4571a31fbe",
            "32205ef23da54fd69b7ae59b43e130df",
            "0e77fe43771f4e2da7680ee5b5622ba1",
            "bd23bba1cb3e4405a3c5d3d1a9c8a673",
            "957126519ac84f978a5f574e01e4163f",
            "b74ccbb0ab954dcbbc2639bf8b77e812",
            "8aad5611b7924a8eb13823e7a4a1e876",
            "906b6199ed3347e3ac4d5d68e298546e",
            "7e88a635c8ef4e3795412ced5a6ce57d",
            "1bdf1a55d2e940f0af00bfe621e39069",
            "32677420ee6247b2a8996d6b6adff736",
            "3d14ad714df84bd1854106e189579c5d",
            "754be7f5404549029f6d13f9db22ca61",
            "3f26452f338c4ee2a13aea8b51035a5e",
            "4f9cc763bafe478e9e8aae646953838d",
            "388c670084584018b15f50c098de8f31",
            "4057ebe269b44bf2bec2d3f77fc4199c"
          ]
        },
        "id": "PVGZr8Y9cevD",
        "outputId": "c41e13bc-16e9-4157-ee93-3d5925d64b15"
      },
      "execution_count": null,
      "outputs": [
        {
          "output_type": "display_data",
          "data": {
            "text/plain": [
              "Batches:   0%|          | 0/7 [00:00<?, ?it/s]"
            ],
            "application/vnd.jupyter.widget-view+json": {
              "version_major": 2,
              "version_minor": 0,
              "model_id": "609066bb2d974964b4e704a380c1a1fb"
            }
          },
          "metadata": {}
        },
        {
          "output_type": "stream",
          "name": "stdout",
          "text": [
            "0.5805403707467288\n"
          ]
        },
        {
          "output_type": "display_data",
          "data": {
            "text/plain": [
              "Batches:   0%|          | 0/7 [00:00<?, ?it/s]"
            ],
            "application/vnd.jupyter.widget-view+json": {
              "version_major": 2,
              "version_minor": 0,
              "model_id": "f963ce2191c64dfd986dd434898a02ce"
            }
          },
          "metadata": {}
        },
        {
          "output_type": "stream",
          "name": "stdout",
          "text": [
            "0.5457112959128922\n"
          ]
        },
        {
          "output_type": "display_data",
          "data": {
            "text/plain": [
              "Batches:   0%|          | 0/7 [00:00<?, ?it/s]"
            ],
            "application/vnd.jupyter.widget-view+json": {
              "version_major": 2,
              "version_minor": 0,
              "model_id": "8aad5611b7924a8eb13823e7a4a1e876"
            }
          },
          "metadata": {}
        },
        {
          "output_type": "stream",
          "name": "stdout",
          "text": [
            "0.5447213012138723\n"
          ]
        }
      ]
    },
    {
      "cell_type": "markdown",
      "source": [
        "### Encode embeddings and calculated cosine scores"
      ],
      "metadata": {
        "id": "T_nn6k8cgSZU"
      }
    },
    {
      "cell_type": "code",
      "source": [
        "# Calculate sentence embeddings\n",
        "embeddings1 = model1.encode(items,  convert_to_tensor=True)\n",
        "for item, embedding in zip(items, embeddings1):\n",
        "    print(\"Item:\", item)\n",
        "    print(\"Embedding:\", embedding)\n",
        "    print(\"\")\n",
        "\n",
        "embeddings2 = model2.encode(items,  convert_to_tensor=True)\n",
        "for item, embedding in zip(items, embeddings2):\n",
        "    print(\"Item:\", item)\n",
        "    print(\"Embedding:\", embedding)\n",
        "    print(\"\")\n",
        "\n",
        "embeddings3 = model3.encode(items,  convert_to_tensor=True)\n",
        "for item, embedding in zip(items, embeddings3):\n",
        "    print(\"Item:\", item)\n",
        "    print(\"Embedding:\", embedding)\n",
        "    print(\"\")"
      ],
      "metadata": {
        "id": "UlbmMJYgfB4r"
      },
      "execution_count": null,
      "outputs": []
    },
    {
      "cell_type": "code",
      "source": [
        "#Compute cosine similarities\n",
        "cosine_scores1 = util.cos_sim(embeddings1, embeddings1)\n",
        "cosine_scores2 = util.cos_sim(embeddings2, embeddings2)\n",
        "cosine_scores3 = util.cos_sim(embeddings3, embeddings3)"
      ],
      "metadata": {
        "id": "znloSTrTfLEd"
      },
      "execution_count": null,
      "outputs": []
    },
    {
      "cell_type": "markdown",
      "source": [
        "### Export cosine scores for all pairs for each model"
      ],
      "metadata": {
        "id": "Fgmyhc-1gZT5"
      }
    },
    {
      "cell_type": "code",
      "source": [
        "# Export cosine scores to R\n",
        "cos1_pd = pd.DataFrame(cosine_scores1)\n",
        "cos1_pd.columns = codes\n",
        "cos1_pd.index = codes\n",
        "cos1_pd.to_csv(\"cossco1.csv\", index=True)\n",
        "\n",
        "cos2_pd = pd.DataFrame(cosine_scores2)\n",
        "cos2_pd.columns = codes\n",
        "cos2_pd.index = codes\n",
        "cos2_pd.to_csv(\"cossco2.csv\", index=True)\n",
        "\n",
        "cos3_pd = pd.DataFrame(cosine_scores3)\n",
        "cos3_pd.columns = codes\n",
        "cos3_pd.index = codes\n",
        "cos3_pd.to_csv(\"cossco3.csv\", index=True)"
      ],
      "metadata": {
        "id": "G1zTQC5f_R2w"
      },
      "execution_count": null,
      "outputs": []
    }
  ]
}